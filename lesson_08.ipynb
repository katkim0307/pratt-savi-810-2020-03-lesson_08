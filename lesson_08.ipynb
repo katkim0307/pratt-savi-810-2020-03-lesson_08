{
 "cells": [
  {
   "cell_type": "markdown",
   "metadata": {},
   "source": [
    "# Lesson 08\n",
    "\n",
    "\n",
    "# Geocoding (con't), Lambda Functions and Street Networks with OSMnx\n",
    "\n",
    "\n",
    "\n",
    "\n",
    "![http://www.pratt.edu/tiny_mce/plugins/imagemanager/files/Light_brown_blue22.jpg](http://www.pratt.edu/tiny_mce/plugins/imagemanager/files/Light_brown_blue22.jpg)\n",
    "\n",
    "# Class Links\n",
    "\n",
    "* [Syllabus](https://docs.google.com/document/d/1KHxT-NkaoXXdSNkK8JlzL2FFgmNoxPQ25fwgtXPnbrY)\n",
    "\n",
    "* [Class Google Spreadsheet](https://docs.google.com/spreadsheets/d/1t481r7HjQBbjNtFOABSOlcckzQhdrh12TCzpSYKurI0/edit?usp=sharing)\n",
    "\n",
    "* [Google Meetup Video Hangout](https://meet.google.com/aym-kxae-bzr)\n",
    "\n",
    "  * For United States Dial +1 \n",
    "    * (669) 220-6376\n",
    "  * Enter this PIN when prompted: \n",
    "    * 891 126 706 #\n",
    "  \n",
    "* [GitHub Organization](https://github.com/pratt-savi-810)\n",
    "\n",
    "* [Slack Organization](https://app.slack.com/client/T01068MA75X/C010J3Q2QET)\n",
    "\n",
    "* [Resources](https://github.com/pratt-savi-810/resources)"
   ]
  },
  {
   "cell_type": "markdown",
   "metadata": {
    "toc": true
   },
   "source": [
    "<h1>Table of Contents<span class=\"tocSkip\"></span></h1>\n",
    "<div class=\"toc\"><ul class=\"toc-item\"><li><span><a href=\"#Lesson-08\" data-toc-modified-id=\"Lesson-08-1\">Lesson 08</a></span></li><li><span><a href=\"#Geocoding-(con't),-Lambda-Functions-and-Street-Networks-with-OSMnx\" data-toc-modified-id=\"Geocoding-(con't),-Lambda-Functions-and-Street-Networks-with-OSMnx-2\">Geocoding (con't), Lambda Functions and Street Networks with OSMnx</a></span></li><li><span><a href=\"#Class-Links\" data-toc-modified-id=\"Class-Links-3\">Class Links</a></span></li><li><span><a href=\"#Assignment-04-Assigned\" data-toc-modified-id=\"Assignment-04-Assigned-4\">Assignment 04 Assigned</a></span></li><li><span><a href=\"#Optional-Assignment---Code-Wars---Python\" data-toc-modified-id=\"Optional-Assignment---Code-Wars---Python-5\">Optional Assignment - Code Wars - Python</a></span></li><li><span><a href=\"#Learning-Objectives\" data-toc-modified-id=\"Learning-Objectives-6\">Learning Objectives</a></span><ul class=\"toc-item\"><li><ul class=\"toc-item\"><li><span><a href=\"#Fork-and-Clone-this-Lesson-Repo\" data-toc-modified-id=\"Fork-and-Clone-this-Lesson-Repo-6.0.1\">Fork and Clone this Lesson Repo</a></span></li></ul></li></ul></li><li><span><a href=\"#Import-Libraries\" data-toc-modified-id=\"Import-Libraries-7\">Import Libraries</a></span></li><li><span><a href=\"#Geocoding\" data-toc-modified-id=\"Geocoding-8\">Geocoding</a></span><ul class=\"toc-item\"><li><ul class=\"toc-item\"><li><ul class=\"toc-item\"><li><span><a href=\"#Let's-load-in-our-familiar-NYC-Boroughs-dataset.\" data-toc-modified-id=\"Let's-load-in-our-familiar-NYC-Boroughs-dataset.-8.0.0.1\">Let's load in our familiar NYC Boroughs dataset.</a></span></li><li><span><a href=\"#Back-to-Geocoding\" data-toc-modified-id=\"Back-to-Geocoding-8.0.0.2\">Back to Geocoding</a></span></li><li><span><a href=\"#Additional-Imports\" data-toc-modified-id=\"Additional-Imports-8.0.0.3\">Additional Imports</a></span></li><li><span><a href=\"#Set-our-Geolocator-as-the-Geocoder-we'd-like-to-use\" data-toc-modified-id=\"Set-our-Geolocator-as-the-Geocoder-we'd-like-to-use-8.0.0.4\">Set our Geolocator as the Geocoder we'd like to use</a></span></li><li><span><a href=\"#Define-our-address-data\" data-toc-modified-id=\"Define-our-address-data-8.0.0.5\">Define our address data</a></span></li><li><span><a href=\"#Create-our-DataFrame\" data-toc-modified-id=\"Create-our-DataFrame-8.0.0.6\">Create our DataFrame</a></span></li><li><span><a href=\"#Geocode-addresses\" data-toc-modified-id=\"Geocode-addresses-8.0.0.7\">Geocode addresses</a></span></li><li><span><a href=\"#Create-a-geometry-column,-lambda-function-using-Shapely's-Point()-class.\" data-toc-modified-id=\"Create-a-geometry-column,-lambda-function-using-Shapely's-Point()-class.-8.0.0.8\">Create a <code>geometry</code> column, lambda function using Shapely's <code>Point()</code> class.</a></span></li><li><span><a href=\"#What-is-a-lambda-function?\" data-toc-modified-id=\"What-is-a-lambda-function?-8.0.0.9\">What is a <code>lambda</code> function?</a></span></li><li><span><a href=\"#Generate-a-GeoDataFrame-using-our-'geometry'-column.\" data-toc-modified-id=\"Generate-a-GeoDataFrame-using-our-'geometry'-column.-8.0.0.10\">Generate a GeoDataFrame using our <code>'geometry'</code> column.</a></span></li><li><span><a href=\"#Plot-address\" data-toc-modified-id=\"Plot-address-8.0.0.11\">Plot <code>address</code></a></span></li><li><span><a href=\"#Import-distance-from-geopy\" data-toc-modified-id=\"Import-distance-from-geopy-8.0.0.12\">Import <code>distance</code> from <code>geopy</code></a></span></li><li><span><a href=\"#Check-out-address.geometry-attribute\" data-toc-modified-id=\"Check-out-address.geometry-attribute-8.0.0.13\">Check out <code>address.geometry</code> attribute</a></span></li><li><span><a href=\"#Let's-plot-the-addresses-with-our-Boros-(gdf)\" data-toc-modified-id=\"Let's-plot-the-addresses-with-our-Boros-(gdf)-8.0.0.14\">Let's plot the addresses with our Boros (<code>gdf</code>)</a></span></li></ul></li></ul></li></ul></li><li><span><a href=\"#Calculating-Distance-with-GeoPy\" data-toc-modified-id=\"Calculating-Distance-with-GeoPy-9\">Calculating Distance with GeoPy</a></span><ul class=\"toc-item\"><li><span><a href=\"#Great-Circle-Distance-and-the-Rhumb-Line\" data-toc-modified-id=\"Great-Circle-Distance-and-the-Rhumb-Line-9.1\">Great Circle Distance and the Rhumb Line</a></span><ul class=\"toc-item\"><li><ul class=\"toc-item\"><li><span><a href=\"#A-Rhumb-Line-on-Mercator-Projection\" data-toc-modified-id=\"A-Rhumb-Line-on-Mercator-Projection-9.1.0.1\">A Rhumb Line on Mercator Projection</a></span></li><li><span><a href=\"#Rhumb-Lines-on-North-Pole-Azimuthal-Equidistance-Projection\" data-toc-modified-id=\"Rhumb-Lines-on-North-Pole-Azimuthal-Equidistance-Projection-9.1.0.2\">Rhumb Lines on North Pole Azimuthal Equidistance Projection</a></span></li></ul></li><li><span><a href=\"#Exmaple-of-West-Palm-Beach,-Florida,-US-to-Lisbon,-Portugal-in-Google-Maps\" data-toc-modified-id=\"Exmaple-of-West-Palm-Beach,-Florida,-US-to-Lisbon,-Portugal-in-Google-Maps-9.1.1\">Exmaple of West Palm Beach, Florida, US to Lisbon, Portugal in Google Maps</a></span><ul class=\"toc-item\"><li><span><a href=\"#Import-distance-from-geopy\" data-toc-modified-id=\"Import-distance-from-geopy-9.1.1.1\">Import <code>distance</code> from <code>geopy</code></a></span></li><li><span><a href=\"#Set-places-equal-to-Latitude,-Longitude-tuples\" data-toc-modified-id=\"Set-places-equal-to-Latitude,-Longitude-tuples-9.1.1.2\">Set places equal to Latitude, Longitude tuples</a></span></li><li><span><a href=\"#Create-a-new-variable-that's-the-distance\" data-toc-modified-id=\"Create-a-new-variable-that's-the-distance-9.1.1.3\">Create a new variable that's the distance</a></span></li><li><span><a href=\"#Show-our-variable's-output-in-miles,-using-.miles\" data-toc-modified-id=\"Show-our-variable's-output-in-miles,-using-.miles-9.1.1.4\">Show our variable's output in miles, using <code>.miles</code></a></span></li><li><span><a href=\"#Show-our-variable's-output-in-kilomters,-using-.kilometers\" data-toc-modified-id=\"Show-our-variable's-output-in-kilomters,-using-.kilometers-9.1.1.5\">Show our variable's output in kilomters, using <code>.kilometers</code></a></span></li><li><span><a href=\"#Try-with-great_circle\" data-toc-modified-id=\"Try-with-great_circle-9.1.1.6\">Try with <code>great_circle</code></a></span></li><li><span><a href=\"#Show-.miles,\" data-toc-modified-id=\"Show-.miles,-9.1.1.7\">Show <code>.miles,</code></a></span></li><li><span><a href=\"#Test-Geodesic-vs.-Great-Circle\" data-toc-modified-id=\"Test-Geodesic-vs.-Great-Circle-9.1.1.8\">Test Geodesic vs. Great Circle</a></span></li><li><span><a href=\"#Difference\" data-toc-modified-id=\"Difference-9.1.1.9\">Difference</a></span></li></ul></li></ul></li><li><span><a href=\"#GeodesicLinesToGIS-0.5.0\" data-toc-modified-id=\"GeodesicLinesToGIS-0.5.0-9.2\">GeodesicLinesToGIS 0.5.0</a></span><ul class=\"toc-item\"><li><ul class=\"toc-item\"><li><span><a href=\"#Fromgeodesiclinestogis-import-GeodesicLine2Gisfile\" data-toc-modified-id=\"Fromgeodesiclinestogis-import-GeodesicLine2Gisfile-9.2.0.1\">From<code>geodesiclinestogis</code> import <code>GeodesicLine2Gisfile</code></a></span></li><li><span><a href=\"#Create-gtg-object-instance-of-GeodesicLine2Gisfile()\" data-toc-modified-id=\"Create-gtg-object-instance-of-GeodesicLine2Gisfile()-9.2.0.2\">Create <code>gtg</code> object instance of <code>GeodesicLine2Gisfile()</code></a></span></li><li><span><a href=\"#Let's-look-at-our-new_york-and-los_angeles-lat,-lng-tuples\" data-toc-modified-id=\"Let's-look-at-our-new_york-and-los_angeles-lat,-lng-tuples-9.2.0.3\">Let's look at our <code>new_york</code> and <code>los_angeles</code> lat, lng tuples</a></span></li><li><span><a href=\"#We-can-add-two-tuples-together\" data-toc-modified-id=\"We-can-add-two-tuples-together-9.2.0.4\">We can add two tuples together</a></span></li><li><span><a href=\"#Now-let's-create-our-line-feature\" data-toc-modified-id=\"Now-let's-create-our-line-feature-9.2.0.5\">Now let's create our line feature</a></span></li><li><span><a href=\"#What-went-wrong???\" data-toc-modified-id=\"What-went-wrong???-9.2.0.6\">What went wrong???</a></span></li><li><span><a href=\"#Let's-try-to-construct-our-coord_pairs-again\" data-toc-modified-id=\"Let's-try-to-construct-our-coord_pairs-again-9.2.0.7\">Let's try to construct our coord_pairs again</a></span></li><li><span><a href=\"#Create-our-GIS-output-file\" data-toc-modified-id=\"Create-our-GIS-output-file-9.2.0.8\">Create our GIS output file</a></span></li><li><span><a href=\"#Read-our-output-GIS-file\" data-toc-modified-id=\"Read-our-output-GIS-file-9.2.0.9\">Read our output GIS file</a></span></li><li><span><a href=\"#Plot-our-gdf\" data-toc-modified-id=\"Plot-our-gdf-9.2.0.10\">Plot our gdf</a></span></li></ul></li></ul></li></ul></li><li><span><a href=\"#Networks\" data-toc-modified-id=\"Networks-10\">Networks</a></span><ul class=\"toc-item\"><li><span><a href=\"#Networks-with-OSMnx\" data-toc-modified-id=\"Networks-with-OSMnx-10.1\">Networks with OSMnx</a></span><ul class=\"toc-item\"><li><span><a href=\"#OSMnx:-Python-for-Street-Networks\" data-toc-modified-id=\"OSMnx:-Python-for-Street-Networks-10.1.1\">OSMnx: Python for Street Networks</a></span></li><li><span><a href=\"#Installing-OSMnx\" data-toc-modified-id=\"Installing-OSMnx-10.1.2\">Installing OSMnx</a></span></li><li><span><a href=\"#About-OSMnx\" data-toc-modified-id=\"About-OSMnx-10.1.3\">About OSMnx</a></span><ul class=\"toc-item\"><li><span><a href=\"#Links\" data-toc-modified-id=\"Links-10.1.3.1\">Links</a></span></li><li><span><a href=\"#Let's-get-a-Place-Boundary-from-OSMnx\" data-toc-modified-id=\"Let's-get-a-Place-Boundary-from-OSMnx-10.1.3.2\">Let's get a Place Boundary from OSMnx</a></span></li><li><span><a href=\"#Plot-city\" data-toc-modified-id=\"Plot-city-10.1.3.3\">Plot <code>city</code></a></span></li><li><span><a href=\"#OSMnx,-has-it's-own-Function-to-save-as-a-shapefile,-in-a-folder-called-data\" data-toc-modified-id=\"OSMnx,-has-it's-own-Function-to-save-as-a-shapefile,-in-a-folder-called-data-10.1.3.4\">OSMnx, has it's own Function to save as a shapefile, in a folder called <code>data</code></a></span></li><li><span><a href=\"#Let's-get-some-Streets-from-Ojai,-California,-via-the-graph_from_place()-function-to-get-the-Streets-Network.\" data-toc-modified-id=\"Let's-get-some-Streets-from-Ojai,-California,-via-the-graph_from_place()-function-to-get-the-Streets-Network.-10.1.3.5\">Let's get some Streets from Ojai, California, via the <code>graph_from_place()</code> function to get the Streets Network.</a></span></li><li><span><a href=\"#Let's-plot-a-graph-of-the-Ojai-Streets-Network\" data-toc-modified-id=\"Let's-plot-a-graph-of-the-Ojai-Streets-Network-10.1.3.6\">Let's plot a graph of the Ojai Streets Network</a></span></li><li><span><a href=\"#This-OSMnx-object-from-ox.graph_from_place()-is-not-a-GeoDataFrame-object\" data-toc-modified-id=\"This-OSMnx-object-from-ox.graph_from_place()-is-not-a-GeoDataFrame-object-10.1.3.7\">This OSMnx object from <code>ox.graph_from_place()</code> is not a GeoDataFrame object</a></span></li><li><span><a href=\"#Let's-get-the-Nodes-and-Edges-of-the-Graph\" data-toc-modified-id=\"Let's-get-the-Nodes-and-Edges-of-the-Graph-10.1.3.8\">Let's get the Nodes and Edges of the Graph</a></span></li><li><span><a href=\"#Let's-look-at-graph_gdfs\" data-toc-modified-id=\"Let's-look-at-graph_gdfs-10.1.3.9\">Let's look at <code>graph_gdfs</code></a></span></li><li><span><a href=\"#We'll-also-grab-the-boundary-for-Ojai,-California\" data-toc-modified-id=\"We'll-also-grab-the-boundary-for-Ojai,-California-10.1.3.10\">We'll also grab the boundary for Ojai, California</a></span></li><li><span><a href=\"#Plot-them-together\" data-toc-modified-id=\"Plot-them-together-10.1.3.11\">Plot them together</a></span></li><li><span><a href=\"#Let's-grab-a-road-network-around-Pratt-University\" data-toc-modified-id=\"Let's-grab-a-road-network-around-Pratt-University-10.1.3.12\">Let's grab a road network around Pratt University</a></span></li><li><span><a href=\"#OSMnx-allows-for-quick-projection-to-UTM-Zone\" data-toc-modified-id=\"OSMnx-allows-for-quick-projection-to-UTM-Zone-10.1.3.13\">OSMnx allows for quick projection to UTM Zone</a></span></li><li><span><a href=\"#Let's-look-at-the-Projection-system-(crs)-info\" data-toc-modified-id=\"Let's-look-at-the-Projection-system-(crs)-info-10.1.3.14\">Let's look at the Projection system (crs) info</a></span></li><li><span><a href=\"#Let's-use-ox.plot_graph-to-plot-our-Graph\" data-toc-modified-id=\"Let's-use-ox.plot_graph-to-plot-our-Graph-10.1.3.15\">Let's use <code>ox.plot_graph</code> to plot our Graph</a></span></li><li><span><a href=\"#Let's-parse-those-out-into-a-set-of-GeoDataFrames\" data-toc-modified-id=\"Let's-parse-those-out-into-a-set-of-GeoDataFrames-10.1.3.16\">Let's parse those out into a set of GeoDataFrames</a></span></li><li><span><a href=\"#And-pull-out-the-intersections-and-the-streets\" data-toc-modified-id=\"And-pull-out-the-intersections-and-the-streets-10.1.3.17\">And pull out the intersections and the streets</a></span></li><li><span><a href=\"#Let's-grab-just-the-pratt-address-from-our-address-GeoDataFrame\" data-toc-modified-id=\"Let's-grab-just-the-pratt-address-from-our-address-GeoDataFrame-10.1.3.18\">Let's grab just the pratt address from our <code>address</code> GeoDataFrame</a></span></li><li><span><a href=\"#Let's-overlay-our-Radial-Buffer-and-our-Network-Analysis-1km-output.\" data-toc-modified-id=\"Let's-overlay-our-Radial-Buffer-and-our-Network-Analysis-1km-output.-10.1.3.19\">Let's overlay our Radial Buffer and our Network Analysis 1km output.</a></span></li></ul></li></ul></li></ul></li><li><span><a href=\"#Let's-use-a-smaller-buffer-and-&quot;Clip&quot;-our-Streets-Data\" data-toc-modified-id=\"Let's-use-a-smaller-buffer-and-&quot;Clip&quot;-our-Streets-Data-11\">Let's use a smaller buffer and \"Clip\" our Streets Data</a></span><ul class=\"toc-item\"><li><ul class=\"toc-item\"><li><ul class=\"toc-item\"><li><span><a href=\"#Copy-our-pratt_point\" data-toc-modified-id=\"Copy-our-pratt_point-11.0.0.1\">Copy our <code>pratt_point</code></a></span></li><li><span><a href=\"#Plot-our-circle\" data-toc-modified-id=\"Plot-our-circle-11.0.0.2\">Plot our <code>circle</code></a></span></li><li><span><a href=\"#Change-the-CRS-to-NY-State-Plane\" data-toc-modified-id=\"Change-the-CRS-to-NY-State-Plane-11.0.0.3\">Change the CRS to NY State Plane</a></span></li><li><span><a href=\"#Set-it's-geometry-column-to-a-buffer-of-1000-feet\" data-toc-modified-id=\"Set-it's-geometry-column-to-a-buffer-of-1000-feet-11.0.0.4\">Set it's geometry column to a buffer of 1000 feet</a></span></li><li><span><a href=\"#We'll-actually-set-back-to-WGS-84,-not-good-in-practice\" data-toc-modified-id=\"We'll-actually-set-back-to-WGS-84,-not-good-in-practice-11.0.0.5\">We'll actually set back to WGS 84, not good in practice</a></span></li><li><span><a href=\"#Plot\" data-toc-modified-id=\"Plot-11.0.0.6\">Plot</a></span></li><li><span><a href=\"#Plot-pratt_streets\" data-toc-modified-id=\"Plot-pratt_streets-11.0.0.7\">Plot <code>pratt_streets</code></a></span></li></ul></li></ul></li></ul></li><li><span><a href=\"#Spatial-Join-to-Clip-our-Streets\" data-toc-modified-id=\"Spatial-Join-to-Clip-our-Streets-12\">Spatial Join to Clip our Streets</a></span><ul class=\"toc-item\"><li><ul class=\"toc-item\"><li><ul class=\"toc-item\"><li><span><a href=\"#Plot-street_join\" data-toc-modified-id=\"Plot-street_join-12.0.0.1\">Plot <code>street_join</code></a></span></li><li><span><a href=\"#Show-Head-of-street_join\" data-toc-modified-id=\"Show-Head-of-street_join-12.0.0.2\">Show Head of <code>street_join</code></a></span></li><li><span><a href=\"#Query-our-GeoDataFrame,-only-include-features-that-intersect-with-Pratt-1000-feet-circle\" data-toc-modified-id=\"Query-our-GeoDataFrame,-only-include-features-that-intersect-with-Pratt-1000-feet-circle-12.0.0.3\">Query our GeoDataFrame, only include features that intersect with Pratt 1000 feet circle</a></span></li><li><span><a href=\"#Check-the-value_counts()\" data-toc-modified-id=\"Check-the-value_counts()-12.0.0.4\">Check the <code>value_counts()</code></a></span></li><li><span><a href=\"#Plot\" data-toc-modified-id=\"Plot-12.0.0.5\">Plot</a></span></li></ul></li></ul></li></ul></li><li><span><a href=\"#Gitignore-Review\" data-toc-modified-id=\"Gitignore-Review-13\">Gitignore Review</a></span><ul class=\"toc-item\"><li><ul class=\"toc-item\"><li><ul class=\"toc-item\"><li><span><a href=\"#Useful-.gitignore-file-links\" data-toc-modified-id=\"Useful-.gitignore-file-links-13.0.0.1\">Useful <code>.gitignore</code> file links</a></span></li></ul></li></ul></li></ul></li></ul></div>"
   ]
  },
  {
   "cell_type": "markdown",
   "metadata": {},
   "source": [
    "# Assignment 04 Assigned\n",
    "\n",
    "Fork and Clone: https://github.com/pratt-savi-810/pratt-savi-810-2020-03-assignment_04"
   ]
  },
  {
   "cell_type": "markdown",
   "metadata": {},
   "source": [
    "# Optional Assignment - Code Wars - Python\n",
    "\n",
    "* [Kata - Getting Started With Python!](https://www.codewars.com/collections/getting-started-with-python-1)"
   ]
  },
  {
   "cell_type": "markdown",
   "metadata": {},
   "source": [
    "# Learning Objectives\n",
    "\n",
    "\n",
    "* Insert Objectives\n",
    "\n",
    "\n",
    "\n",
    "### Fork and Clone this Lesson Repo\n",
    "\n",
    "https://github.com/pratt-savi-810/pratt-savi-810-2020-03-lesson_08\n",
    "\n"
   ]
  },
  {
   "cell_type": "markdown",
   "metadata": {},
   "source": [
    "# Import Libraries\n",
    "\n",
    "Let's `import` some of the libraries we've already used. "
   ]
  },
  {
   "cell_type": "code",
   "execution_count": 1,
   "metadata": {},
   "outputs": [],
   "source": [
    "import os\n",
    "import sys\n",
    "module_path = os.path.abspath(os.path.join('..'))\n",
    "if module_path not in sys.path:\n",
    "    sys.path.append(module_path)\n",
    "    \n",
    "\n",
    "from IPython.display import IFrame\n",
    "import pandas as pd\n",
    "import geopandas as gpd\n",
    "import matplotlib.pyplot as plt\n",
    "import numpy as np\n",
    "import missingno as msno\n",
    "import seaborn as sns\n",
    "import matplotlib.patches as patches\n",
    "\n",
    "\n",
    "%matplotlib inline\n",
    "%load_ext autoreload\n",
    "%autoreload 2"
   ]
  },
  {
   "cell_type": "markdown",
   "metadata": {},
   "source": [
    "# Geocoding \n",
    "\n",
    "Below is the code from last class to catch us up to where we last left off. "
   ]
  },
  {
   "cell_type": "markdown",
   "metadata": {},
   "source": [
    "#### Let's load in our familiar NYC Boroughs dataset."
   ]
  },
  {
   "cell_type": "code",
   "execution_count": 26,
   "metadata": {},
   "outputs": [],
   "source": [
    "boro_geojson_link = 'https://data.cityofnewyork.us/api/geospatial/tqmj-j8zm?method=export&format=GeoJSON'\n",
    "\n",
    "boro_gdf = gpd.read_file(boro_geojson_link)\n",
    "boro_gdf.to_crs(epsg=2263, inplace=True)  "
   ]
  },
  {
   "cell_type": "markdown",
   "metadata": {},
   "source": [
    "#### Back to Geocoding\n",
    "\n",
    "Let's run the code from last class. "
   ]
  },
  {
   "cell_type": "markdown",
   "metadata": {},
   "source": [
    "#### Additional Imports"
   ]
  },
  {
   "cell_type": "code",
   "execution_count": 2,
   "metadata": {},
   "outputs": [],
   "source": [
    "from geopy.geocoders import Nominatim\n",
    "from shapely.geometry import Point  # importing the Point class\n",
    "from geopandas import GeoDataFrame"
   ]
  },
  {
   "cell_type": "markdown",
   "metadata": {},
   "source": [
    "#### Set our Geolocator as the Geocoder we'd like to use"
   ]
  },
  {
   "cell_type": "code",
   "execution_count": 4,
   "metadata": {},
   "outputs": [],
   "source": [
    "geolocator = Nominatim(user_agent = 'my-application')"
   ]
  },
  {
   "cell_type": "markdown",
   "metadata": {},
   "source": [
    "#### Define our address data"
   ]
  },
  {
   "cell_type": "code",
   "execution_count": 5,
   "metadata": {},
   "outputs": [],
   "source": [
    "data = {\n",
    "    'address': [\n",
    "        '175 5th Avenue NYC',\n",
    "        '200 Willoughby Ave, Brooklyn, NY 11205',\n",
    "        '315 Bowery, NY, NY',\n",
    "    ],\n",
    "    'name': [\n",
    "        'Flatiron Bldg',\n",
    "        'Pratt',\n",
    "        \"CBGB's\"\n",
    "    ]\n",
    "}  # this is our address data, that we'll use to create a DataFrame"
   ]
  },
  {
   "cell_type": "code",
   "execution_count": 6,
   "metadata": {},
   "outputs": [
    {
     "data": {
      "text/plain": [
       "{'address': ['175 5th Avenue NYC',\n",
       "  '200 Willoughby Ave, Brooklyn, NY 11205',\n",
       "  '315 Bowery, NY, NY'],\n",
       " 'name': ['Flatiron Bldg', 'Pratt', \"CBGB's\"]}"
      ]
     },
     "execution_count": 6,
     "metadata": {},
     "output_type": "execute_result"
    }
   ],
   "source": [
    "data"
   ]
  },
  {
   "cell_type": "markdown",
   "metadata": {},
   "source": [
    "#### Create our DataFrame"
   ]
  },
  {
   "cell_type": "code",
   "execution_count": 8,
   "metadata": {},
   "outputs": [
    {
     "data": {
      "text/html": [
       "<div>\n",
       "<style scoped>\n",
       "    .dataframe tbody tr th:only-of-type {\n",
       "        vertical-align: middle;\n",
       "    }\n",
       "\n",
       "    .dataframe tbody tr th {\n",
       "        vertical-align: top;\n",
       "    }\n",
       "\n",
       "    .dataframe thead th {\n",
       "        text-align: right;\n",
       "    }\n",
       "</style>\n",
       "<table border=\"1\" class=\"dataframe\">\n",
       "  <thead>\n",
       "    <tr style=\"text-align: right;\">\n",
       "      <th></th>\n",
       "      <th>address</th>\n",
       "      <th>name</th>\n",
       "    </tr>\n",
       "  </thead>\n",
       "  <tbody>\n",
       "    <tr>\n",
       "      <th>0</th>\n",
       "      <td>175 5th Avenue NYC</td>\n",
       "      <td>Flatiron Bldg</td>\n",
       "    </tr>\n",
       "    <tr>\n",
       "      <th>1</th>\n",
       "      <td>200 Willoughby Ave, Brooklyn, NY 11205</td>\n",
       "      <td>Pratt</td>\n",
       "    </tr>\n",
       "    <tr>\n",
       "      <th>2</th>\n",
       "      <td>315 Bowery, NY, NY</td>\n",
       "      <td>CBGB's</td>\n",
       "    </tr>\n",
       "  </tbody>\n",
       "</table>\n",
       "</div>"
      ],
      "text/plain": [
       "                                  address           name\n",
       "0                      175 5th Avenue NYC  Flatiron Bldg\n",
       "1  200 Willoughby Ave, Brooklyn, NY 11205          Pratt\n",
       "2                      315 Bowery, NY, NY         CBGB's"
      ]
     },
     "execution_count": 8,
     "metadata": {},
     "output_type": "execute_result"
    }
   ],
   "source": [
    "# create our dataframe of addresses\n",
    "\n",
    "df = pd.DataFrame(data, columns=data.keys())\n",
    "\n",
    "df"
   ]
  },
  {
   "cell_type": "markdown",
   "metadata": {},
   "source": [
    "#### Geocode addresses"
   ]
  },
  {
   "cell_type": "code",
   "execution_count": 14,
   "metadata": {},
   "outputs": [],
   "source": [
    "# if we didn't have pandas .apply() function:\n",
    "\n",
    "# lat_lon_list=[]\n",
    "\n",
    "# for i in data['address']:\n",
    "#     print(i)\n",
    "#     res = geolocator.geocode(i)\n",
    "#     print('    ', res.latitude, res.longitude)\n",
    "    \n",
    "#     lat_lon_list.append((res.latitude, res.longitude))"
   ]
  },
  {
   "cell_type": "code",
   "execution_count": 16,
   "metadata": {
    "scrolled": true
   },
   "outputs": [
    {
     "data": {
      "text/html": [
       "<div>\n",
       "<style scoped>\n",
       "    .dataframe tbody tr th:only-of-type {\n",
       "        vertical-align: middle;\n",
       "    }\n",
       "\n",
       "    .dataframe tbody tr th {\n",
       "        vertical-align: top;\n",
       "    }\n",
       "\n",
       "    .dataframe thead th {\n",
       "        text-align: right;\n",
       "    }\n",
       "</style>\n",
       "<table border=\"1\" class=\"dataframe\">\n",
       "  <thead>\n",
       "    <tr style=\"text-align: right;\">\n",
       "      <th></th>\n",
       "      <th>address</th>\n",
       "      <th>name</th>\n",
       "      <th>geocode</th>\n",
       "    </tr>\n",
       "  </thead>\n",
       "  <tbody>\n",
       "    <tr>\n",
       "      <th>0</th>\n",
       "      <td>175 5th Avenue NYC</td>\n",
       "      <td>Flatiron Bldg</td>\n",
       "      <td>(Flatiron Building, 175, 5th Avenue, Flatiron ...</td>\n",
       "    </tr>\n",
       "    <tr>\n",
       "      <th>1</th>\n",
       "      <td>200 Willoughby Ave, Brooklyn, NY 11205</td>\n",
       "      <td>Pratt</td>\n",
       "      <td>(Pratt Institute, 200, Willoughby Avenue, Clin...</td>\n",
       "    </tr>\n",
       "    <tr>\n",
       "      <th>2</th>\n",
       "      <td>315 Bowery, NY, NY</td>\n",
       "      <td>CBGB's</td>\n",
       "      <td>(315, Bowery, East Village, Manhattan Communit...</td>\n",
       "    </tr>\n",
       "  </tbody>\n",
       "</table>\n",
       "</div>"
      ],
      "text/plain": [
       "                                  address           name  \\\n",
       "0                      175 5th Avenue NYC  Flatiron Bldg   \n",
       "1  200 Willoughby Ave, Brooklyn, NY 11205          Pratt   \n",
       "2                      315 Bowery, NY, NY         CBGB's   \n",
       "\n",
       "                                             geocode  \n",
       "0  (Flatiron Building, 175, 5th Avenue, Flatiron ...  \n",
       "1  (Pratt Institute, 200, Willoughby Avenue, Clin...  \n",
       "2  (315, Bowery, East Village, Manhattan Communit...  "
      ]
     },
     "execution_count": 16,
     "metadata": {},
     "output_type": "execute_result"
    }
   ],
   "source": [
    "# apply our geocode function to create geocode output data to a col\n",
    "\n",
    "df['geocode'] = df['address'].apply(geolocator.geocode)\n",
    "\n",
    "df"
   ]
  },
  {
   "cell_type": "code",
   "execution_count": 17,
   "metadata": {},
   "outputs": [
    {
     "data": {
      "text/plain": [
       "Location(Flatiron Building, 175, 5th Avenue, Flatiron District, Manhattan Community Board 5, Manhattan, New York County, New York, 10010, United States of America, (40.741059199999995, -73.98964162240998, 0.0))"
      ]
     },
     "execution_count": 17,
     "metadata": {},
     "output_type": "execute_result"
    }
   ],
   "source": [
    "df['geocode'][0]"
   ]
  },
  {
   "cell_type": "markdown",
   "metadata": {},
   "source": [
    "#### Create a `geometry` column, lambda function using Shapely's `Point()` class. "
   ]
  },
  {
   "cell_type": "code",
   "execution_count": 18,
   "metadata": {},
   "outputs": [
    {
     "data": {
      "text/html": [
       "<div>\n",
       "<style scoped>\n",
       "    .dataframe tbody tr th:only-of-type {\n",
       "        vertical-align: middle;\n",
       "    }\n",
       "\n",
       "    .dataframe tbody tr th {\n",
       "        vertical-align: top;\n",
       "    }\n",
       "\n",
       "    .dataframe thead th {\n",
       "        text-align: right;\n",
       "    }\n",
       "</style>\n",
       "<table border=\"1\" class=\"dataframe\">\n",
       "  <thead>\n",
       "    <tr style=\"text-align: right;\">\n",
       "      <th></th>\n",
       "      <th>address</th>\n",
       "      <th>name</th>\n",
       "      <th>geocode</th>\n",
       "      <th>geometry</th>\n",
       "    </tr>\n",
       "  </thead>\n",
       "  <tbody>\n",
       "    <tr>\n",
       "      <th>0</th>\n",
       "      <td>175 5th Avenue NYC</td>\n",
       "      <td>Flatiron Bldg</td>\n",
       "      <td>(Flatiron Building, 175, 5th Avenue, Flatiron ...</td>\n",
       "      <td>POINT (-73.98964162240998 40.7410592)</td>\n",
       "    </tr>\n",
       "    <tr>\n",
       "      <th>1</th>\n",
       "      <td>200 Willoughby Ave, Brooklyn, NY 11205</td>\n",
       "      <td>Pratt</td>\n",
       "      <td>(Pratt Institute, 200, Willoughby Avenue, Clin...</td>\n",
       "      <td>POINT (-73.96301632978006 40.69133825)</td>\n",
       "    </tr>\n",
       "    <tr>\n",
       "      <th>2</th>\n",
       "      <td>315 Bowery, NY, NY</td>\n",
       "      <td>CBGB's</td>\n",
       "      <td>(315, Bowery, East Village, Manhattan Communit...</td>\n",
       "      <td>POINT (-73.9919843 40.725122)</td>\n",
       "    </tr>\n",
       "  </tbody>\n",
       "</table>\n",
       "</div>"
      ],
      "text/plain": [
       "                                  address           name  \\\n",
       "0                      175 5th Avenue NYC  Flatiron Bldg   \n",
       "1  200 Willoughby Ave, Brooklyn, NY 11205          Pratt   \n",
       "2                      315 Bowery, NY, NY         CBGB's   \n",
       "\n",
       "                                             geocode  \\\n",
       "0  (Flatiron Building, 175, 5th Avenue, Flatiron ...   \n",
       "1  (Pratt Institute, 200, Willoughby Avenue, Clin...   \n",
       "2  (315, Bowery, East Village, Manhattan Communit...   \n",
       "\n",
       "                                 geometry  \n",
       "0   POINT (-73.98964162240998 40.7410592)  \n",
       "1  POINT (-73.96301632978006 40.69133825)  \n",
       "2           POINT (-73.9919843 40.725122)  "
      ]
     },
     "execution_count": 18,
     "metadata": {},
     "output_type": "execute_result"
    }
   ],
   "source": [
    "# create a geometry column\n",
    "\n",
    "df['geometry'] = df['geocode'].apply(\n",
    "    lambda x: Point(x.longitude, x.latitude)   # using shapely.geometry object Point\n",
    ")\n",
    "\n",
    "df"
   ]
  },
  {
   "cell_type": "markdown",
   "metadata": {},
   "source": [
    "#### What is a `lambda` function? \n",
    "\n",
    "> Small anonymous functions can be created with the lambda keyword. This function returns the sum of its two arguments: lambda a, b: a+b. Lambda functions can be used wherever function objects are required. They are syntactically restricted to a single expression. Semantically, they are just syntactic sugar for a normal function definition. Like nested function definitions, lambda functions can reference variables from the containing scope. Source: https://docs.python.org/3/tutorial/controlflow.html\n",
    "\n",
    "Basically you can use a lambda when you don't want to define a function but you need to perform a function operation. \n",
    "\n",
    "#### Generate a GeoDataFrame using our `'geometry'` column. "
   ]
  },
  {
   "cell_type": "code",
   "execution_count": 19,
   "metadata": {},
   "outputs": [],
   "source": [
    "# create a geodataframe called address, using the geometry column we created above\n",
    "# let's set the coordinate reference system. \n",
    "# slightly dif. than .to_crs, documented here:  https://github.com/geopandas/geopandas/issues/245\n",
    "\n",
    "gdf = GeoDataFrame(df, geometry='geometry', crs={'init': 'epsg:4326', 'no_defs': True})\n",
    "\n",
    "# 'no_defs' item ensures that no defaults are read from the defaults files. Sometimes they cause suprising problems."
   ]
  },
  {
   "cell_type": "code",
   "execution_count": 29,
   "metadata": {},
   "outputs": [
    {
     "data": {
      "text/plain": [
       "'0.6.1'"
      ]
     },
     "execution_count": 29,
     "metadata": {},
     "output_type": "execute_result"
    }
   ],
   "source": [
    "gpd.__version__"
   ]
  },
  {
   "cell_type": "markdown",
   "metadata": {},
   "source": [
    "#### Plot `gdf`\n"
   ]
  },
  {
   "cell_type": "code",
   "execution_count": 22,
   "metadata": {},
   "outputs": [
    {
     "data": {
      "image/png": "[encoded data removed]",
      "text/plain": [
       "<Figure size 432x288 with 1 Axes>"
      ]
     },
     "metadata": {
      "needs_background": "light"
     },
     "output_type": "display_data"
    }
   ],
   "source": [
    "gdf.plot();"
   ]
  },
  {
   "cell_type": "markdown",
   "metadata": {},
   "source": [
    "#### Import `distance` from `geopy`"
   ]
  },
  {
   "cell_type": "markdown",
   "metadata": {},
   "source": [
    "#### Check out `gdf.geometry` attribute"
   ]
  },
  {
   "cell_type": "code",
   "execution_count": 24,
   "metadata": {},
   "outputs": [
    {
     "data": {
      "text/plain": [
       "0    POINT (-73.98964 40.74106)\n",
       "1    POINT (-73.96302 40.69134)\n",
       "2    POINT (-73.99198 40.72512)\n",
       "Name: geometry, dtype: geometry"
      ]
     },
     "execution_count": 24,
     "metadata": {},
     "output_type": "execute_result"
    }
   ],
   "source": [
    "gdf.geometry"
   ]
  },
  {
   "cell_type": "markdown",
   "metadata": {},
   "source": [
    "#### Let's plot the addresses with our Boros (`boro_gdf`)"
   ]
  },
  {
   "cell_type": "code",
   "execution_count": 28,
   "metadata": {
    "scrolled": false
   },
   "outputs": [
    {
     "data": {
      "image/png": "[encoded data removed]",
      "text/plain": [
       "<Figure size 864x864 with 1 Axes>"
      ]
     },
     "metadata": {
      "needs_background": "light"
     },
     "output_type": "display_data"
    }
   ],
   "source": [
    "fig, ax = plt.subplots(figsize=(12, 12))\n",
    "\n",
    "### boro plot code here\n",
    "boro_gdf.plot(\n",
    "    ax=ax, \n",
    "    color='lightgrey',\n",
    ")\n",
    "\n",
    "### address plot code here\n",
    "gdf.to_crs(epsg=2263).plot(\n",
    "    ax=ax,\n",
    "    color='red',\n",
    "    markersize=100,\n",
    ")\n",
    "\n",
    "### code here\n",
    "\n",
    "plt.title('Geocoded Addresses')\n",
    "\n",
    "plt.show();"
   ]
  },
  {
   "cell_type": "markdown",
   "metadata": {},
   "source": [
    "# Calculating Distance with GeoPy\n",
    "\n",
    "> Geopy can calculate geodesic distance between two points using the [geodesic distance](https://en.wikipedia.org/wiki/Geodesics_on_an_ellipsoid) or the [great-circle distance](https://en.wikipedia.org/wiki/Great-circle_distance), with a default of the geodesic distance available as the function `geopy.distance.distance`.\n",
    "\n",
    "> Great-circle distance (great_circle) uses a spherical model of the earth, using the mean earth radius as defined by the International Union of Geodesy and Geophysics, (2a + b)/3 = 6371.0087714150598 kilometers approx 6371.009 km (for WGS-84), resulting in an error of up to about 0.5%. The radius value is stored in distance.EARTH_RADIUS, so it can be customized (it should always be in kilometers, however).\n",
    "\n",
    "> The geodesic distance is the shortest distance on the surface of an ellipsoidal model of the earth. The default algorithm uses the method is given by Karney (2013) (geodesic); this is accurate to round-off and always converges. An older deprecated method due to Vincenty (1975) (vincenty) is also available; this is only accurate to 0.2 mm and the distance calculation fails to converge for nearly antipodal points. `geopy.distance.distance` currently uses **geodesic**.\n",
    "\n",
    "> There are multiple popular ellipsoidal models, and which one will be the most accurate depends on where your points are located on the earth. The default is the WGS-84 ellipsoid, which is the most globally accurate. geopy includes a few other models in the distance.ELLIPSOIDS dictionary  Source: [https://geopy.readthedocs.io/en/stable/#module-geopy.distance](https://geopy.readthedocs.io/en/stable/#module-geopy.distance)\n",
    "\n",
    "\n"
   ]
  },
  {
   "cell_type": "markdown",
   "metadata": {},
   "source": [
    "## Great Circle Distance and the Rhumb Line\n",
    "\n",
    "Great Circle is the **shortest distance**. Rhumb line is constance azimuth - navigating by compass direction. \n",
    "\n",
    "Rhumb line: \n",
    "> a line on the chart which intersects all meridians at the same angle. Source: https://en.wikipedia.org/wiki/Rhumb_line\n",
    "\n",
    "![](https://www.mathworks.com/help/map/tutor4.png)\n",
    "_Source: [https://www.mathworks.com/help/map/rhumb-lines.html](https://www.mathworks.com/help/map/rhumb-lines.html)_"
   ]
  },
  {
   "cell_type": "markdown",
   "metadata": {},
   "source": [
    "#### A Rhumb Line on Mercator Projection\n",
    "\n",
    "![rhumbline](https://gisgeography.com/wp-content/uploads/2016/11/Rhumb-Line-Meridian-Angle-425x301.png)\n",
    "_Source: [https://gisgeography.com/rhumb-lines-loxodromes/](https://gisgeography.com/rhumb-lines-loxodromes/)_\n",
    "\n",
    "#### Rhumb Lines on North Pole Azimuthal Equidistance Projection\n",
    "\n",
    "![rhumbpolar](https://gisgeography.com/wp-content/uploads/2016/11/Polar-Projection-Rhumb-Line-425x301.png)\n",
    "_Source: [https://gisgeography.com/rhumb-lines-loxodromes/](https://gisgeography.com/rhumb-lines-loxodromes/)_\n"
   ]
  },
  {
   "cell_type": "markdown",
   "metadata": {},
   "source": [
    "### Exmaple of West Palm Beach, Florida, US to Lisbon, Portugal in Google Maps"
   ]
  },
  {
   "cell_type": "code",
   "execution_count": 30,
   "metadata": {},
   "outputs": [
    {
     "data": {
      "text/html": [
       "\n",
       "        <iframe\n",
       "            width=\"750\"\n",
       "            height=\"350\"\n",
       "            src=\"https://www.kavas.com/geometry.html\"\n",
       "            frameborder=\"0\"\n",
       "            allowfullscreen\n",
       "        ></iframe>\n",
       "        "
      ],
      "text/plain": [
       "<IPython.lib.display.IFrame at 0x268c9c6a088>"
      ]
     },
     "execution_count": 30,
     "metadata": {},
     "output_type": "execute_result"
    }
   ],
   "source": [
    "IFrame('https://www.kavas.com/geometry.html', width=750, height=350)"
   ]
  },
  {
   "cell_type": "markdown",
   "metadata": {},
   "source": [
    "#### Import `distance` from `geopy`"
   ]
  },
  {
   "cell_type": "code",
   "execution_count": 3,
   "metadata": {},
   "outputs": [],
   "source": [
    "from geopy import distance"
   ]
  },
  {
   "cell_type": "markdown",
   "metadata": {},
   "source": [
    "#### Set places equal to Latitude, Longitude tuples"
   ]
  },
  {
   "cell_type": "code",
   "execution_count": 32,
   "metadata": {},
   "outputs": [],
   "source": [
    "new_york = (40.7128, -74.0060)\n",
    "los_angeles = (34.0522, -118.2437)"
   ]
  },
  {
   "cell_type": "markdown",
   "metadata": {},
   "source": [
    "#### Create a new variable that's the distance "
   ]
  },
  {
   "cell_type": "code",
   "execution_count": 33,
   "metadata": {},
   "outputs": [],
   "source": [
    "ny_to_la_geodesic = distance.distance(new_york, los_angeles)"
   ]
  },
  {
   "cell_type": "markdown",
   "metadata": {},
   "source": [
    "#### Show our variable's output in miles, using `.miles`"
   ]
  },
  {
   "cell_type": "code",
   "execution_count": 34,
   "metadata": {},
   "outputs": [
    {
     "data": {
      "text/plain": [
       "2450.950344668338"
      ]
     },
     "execution_count": 34,
     "metadata": {},
     "output_type": "execute_result"
    }
   ],
   "source": [
    "ny_to_la_geodesic.miles"
   ]
  },
  {
   "cell_type": "markdown",
   "metadata": {},
   "source": [
    "#### Show our variable's output in kilomters, using `.kilometers`"
   ]
  },
  {
   "cell_type": "code",
   "execution_count": 35,
   "metadata": {},
   "outputs": [
    {
     "data": {
      "text/plain": [
       "3944.4222314899216"
      ]
     },
     "execution_count": 35,
     "metadata": {},
     "output_type": "execute_result"
    }
   ],
   "source": [
    "ny_to_la_geodesic.kilometers"
   ]
  },
  {
   "cell_type": "code",
   "execution_count": 36,
   "metadata": {},
   "outputs": [
    {
     "data": {
      "text/plain": [
       "{'ELLIPSOID': (6378.137, 6356.7523142, 0.0033528106647474805),\n",
       " 'ellipsoid_key': 'WGS-84',\n",
       " 'geod': <geographiclib.geodesic.Geodesic at 0x268caaa9bc8>,\n",
       " '_Distance__kilometers': 3944.4222314899216}"
      ]
     },
     "execution_count": 36,
     "metadata": {},
     "output_type": "execute_result"
    }
   ],
   "source": [
    "ny_to_la_geodesic.__dict__"
   ]
  },
  {
   "cell_type": "markdown",
   "metadata": {},
   "source": [
    "#### Try with `great_circle`"
   ]
  },
  {
   "cell_type": "code",
   "execution_count": 37,
   "metadata": {},
   "outputs": [],
   "source": [
    "ny_to_la_great_circle = distance.great_circle(new_york, los_angeles)"
   ]
  },
  {
   "cell_type": "markdown",
   "metadata": {},
   "source": [
    "#### Show `.miles,` "
   ]
  },
  {
   "cell_type": "code",
   "execution_count": 38,
   "metadata": {},
   "outputs": [
    {
     "data": {
      "text/plain": [
       "2445.5627972925"
      ]
     },
     "execution_count": 38,
     "metadata": {},
     "output_type": "execute_result"
    }
   ],
   "source": [
    "ny_to_la_great_circle.miles"
   ]
  },
  {
   "cell_type": "markdown",
   "metadata": {},
   "source": [
    "#### Test Geodesic vs. Great Circle"
   ]
  },
  {
   "cell_type": "code",
   "execution_count": 39,
   "metadata": {},
   "outputs": [
    {
     "data": {
      "text/plain": [
       "False"
      ]
     },
     "execution_count": 39,
     "metadata": {},
     "output_type": "execute_result"
    }
   ],
   "source": [
    "ny_to_la_geodesic == ny_to_la_great_circle"
   ]
  },
  {
   "cell_type": "markdown",
   "metadata": {},
   "source": [
    "#### Difference"
   ]
  },
  {
   "cell_type": "code",
   "execution_count": 40,
   "metadata": {},
   "outputs": [
    {
     "data": {
      "text/plain": [
       "5.387547375838039"
      ]
     },
     "execution_count": 40,
     "metadata": {},
     "output_type": "execute_result"
    }
   ],
   "source": [
    "ny_to_la_geodesic.miles - ny_to_la_great_circle.miles"
   ]
  },
  {
   "cell_type": "markdown",
   "metadata": {},
   "source": [
    "GeoPy only provides a calculated distance, what if I want a representative Shapefile or other data format of the line. \n",
    "\n",
    "## GeodesicLinesToGIS 0.5.0\n",
    "\n",
    "> Computes geodesic lines from start point to end point and stores them in a GIS file (Shapefile and GeoJSON). A geodesic is the shortest path between two points on a curved surface, like an ellipsoid of revolution (Read more on Wikipedia). Source: https://pypi.org/project/GeodesicLinesToGIS/\n",
    "\n",
    "`$ pip install GeodesicLinesToGIS`"
   ]
  },
  {
   "cell_type": "code",
   "execution_count": 325,
   "metadata": {},
   "outputs": [],
   "source": [
    "# !pip install GeodesicLinesToGIS"
   ]
  },
  {
   "cell_type": "markdown",
   "metadata": {},
   "source": [
    "#### From`geodesiclinestogis` import `GeodesicLine2Gisfile`"
   ]
  },
  {
   "cell_type": "code",
   "execution_count": 4,
   "metadata": {},
   "outputs": [],
   "source": [
    "from geodesiclinestogis.geodesicline2gisfile import GeodesicLine2Gisfile"
   ]
  },
  {
   "cell_type": "markdown",
   "metadata": {},
   "source": [
    "#### Create `gtg` object instance of `GeodesicLine2Gisfile()`"
   ]
  },
  {
   "cell_type": "code",
   "execution_count": 44,
   "metadata": {},
   "outputs": [],
   "source": [
    "# https://github.com/GeographicaGS/GeodesicLinesToGIS/blob/master/notebooks/GeodesicLinesToGIS.ipynb \n",
    "gtg = GeodesicLine2Gisfile()"
   ]
  },
  {
   "cell_type": "markdown",
   "metadata": {},
   "source": [
    "#### Let's look at our `new_york` and `los_angeles` lat, lng tuples"
   ]
  },
  {
   "cell_type": "code",
   "execution_count": 45,
   "metadata": {},
   "outputs": [
    {
     "data": {
      "text/plain": [
       "(40.7128, -74.006)"
      ]
     },
     "execution_count": 45,
     "metadata": {},
     "output_type": "execute_result"
    }
   ],
   "source": [
    "new_york"
   ]
  },
  {
   "cell_type": "code",
   "execution_count": 46,
   "metadata": {},
   "outputs": [
    {
     "data": {
      "text/plain": [
       "(34.0522, -118.2437)"
      ]
     },
     "execution_count": 46,
     "metadata": {},
     "output_type": "execute_result"
    }
   ],
   "source": [
    "los_angeles"
   ]
  },
  {
   "cell_type": "markdown",
   "metadata": {},
   "source": [
    "#### We can add two tuples together"
   ]
  },
  {
   "cell_type": "code",
   "execution_count": 49,
   "metadata": {},
   "outputs": [
    {
     "data": {
      "text/plain": [
       "(40.7128, -74.006, 34.0522, -118.2437)"
      ]
     },
     "execution_count": 49,
     "metadata": {},
     "output_type": "execute_result"
    }
   ],
   "source": [
    "coord_pairs = new_york + los_angeles\n",
    "\n",
    "coord_pairs"
   ]
  },
  {
   "cell_type": "markdown",
   "metadata": {},
   "source": [
    "#### Now let's create our line feature"
   ]
  },
  {
   "cell_type": "code",
   "execution_count": 60,
   "metadata": {},
   "outputs": [
    {
     "name": "stderr",
     "output_type": "stream",
     "text": [
      "[2020-04-15 08:46:26 - ERROR] - Error: cannot convert float NaN to integer\n"
     ]
    },
    {
     "ename": "ComputeGeodesicLineError",
     "evalue": "cannot convert float NaN to integer",
     "output_type": "error",
     "traceback": [
      "\u001b[1;31m---------------------------------------------------------------------------\u001b[0m",
      "\u001b[1;31mValueError\u001b[0m                                Traceback (most recent call last)",
      "\u001b[1;32m~\\anaconda3\\envs\\GIS\\lib\\site-packages\\geodesiclinestogis\\geodesicline2gisfile.py\u001b[0m in \u001b[0;36mgdlComp\u001b[1;34m(self, lons_lats, km_pts)\u001b[0m\n\u001b[0;32m    154\u001b[0m \u001b[1;33m\u001b[0m\u001b[0m\n\u001b[1;32m--> 155\u001b[1;33m             \u001b[0mpts\u001b[0m  \u001b[1;33m=\u001b[0m \u001b[0mint\u001b[0m\u001b[1;33m(\u001b[0m\u001b[0mmath\u001b[0m\u001b[1;33m.\u001b[0m\u001b[0mceil\u001b[0m\u001b[1;33m(\u001b[0m\u001b[0mdist\u001b[0m\u001b[1;33m)\u001b[0m \u001b[1;33m/\u001b[0m \u001b[1;33m(\u001b[0m\u001b[0mkm_pts\u001b[0m \u001b[1;33m*\u001b[0m \u001b[1;36m1000\u001b[0m\u001b[1;33m)\u001b[0m\u001b[1;33m)\u001b[0m\u001b[1;33m\u001b[0m\u001b[1;33m\u001b[0m\u001b[0m\n\u001b[0m\u001b[0;32m    156\u001b[0m \u001b[1;33m\u001b[0m\u001b[0m\n",
      "\u001b[1;31mValueError\u001b[0m: cannot convert float NaN to integer",
      "\nDuring handling of the above exception, another exception occurred:\n",
      "\u001b[1;31mComputeGeodesicLineError\u001b[0m                  Traceback (most recent call last)",
      "\u001b[1;32m<ipython-input-60-0b4abc1f6246>\u001b[0m in \u001b[0;36m<module>\u001b[1;34m\u001b[0m\n\u001b[1;32m----> 1\u001b[1;33m \u001b[0mcd\u001b[0m \u001b[1;33m=\u001b[0m \u001b[0mgtg\u001b[0m\u001b[1;33m.\u001b[0m\u001b[0mgdlComp\u001b[0m\u001b[1;33m(\u001b[0m\u001b[0mcoord_pairs\u001b[0m\u001b[1;33m)\u001b[0m\u001b[1;33m\u001b[0m\u001b[1;33m\u001b[0m\u001b[0m\n\u001b[0m",
      "\u001b[1;32m~\\anaconda3\\envs\\GIS\\lib\\site-packages\\geodesiclinestogis\\geodesicline2gisfile.py\u001b[0m in \u001b[0;36mgdlComp\u001b[1;34m(self, lons_lats, km_pts)\u001b[0m\n\u001b[0;32m    174\u001b[0m         \u001b[1;32mexcept\u001b[0m \u001b[0mException\u001b[0m \u001b[1;32mas\u001b[0m \u001b[0me\u001b[0m\u001b[1;33m:\u001b[0m\u001b[1;33m\u001b[0m\u001b[1;33m\u001b[0m\u001b[0m\n\u001b[0;32m    175\u001b[0m             \u001b[0mself\u001b[0m\u001b[1;33m.\u001b[0m\u001b[0m__logger\u001b[0m\u001b[1;33m.\u001b[0m\u001b[0merror\u001b[0m\u001b[1;33m(\u001b[0m\u001b[1;34m\"Error: {0}\"\u001b[0m\u001b[1;33m.\u001b[0m\u001b[0mformat\u001b[0m\u001b[1;33m(\u001b[0m\u001b[0me\u001b[0m\u001b[1;33m)\u001b[0m\u001b[1;33m)\u001b[0m\u001b[1;33m\u001b[0m\u001b[1;33m\u001b[0m\u001b[0m\n\u001b[1;32m--> 176\u001b[1;33m             \u001b[1;32mraise\u001b[0m \u001b[0mComputeGeodesicLineError\u001b[0m\u001b[1;33m(\u001b[0m\u001b[0me\u001b[0m\u001b[1;33m)\u001b[0m\u001b[1;33m\u001b[0m\u001b[1;33m\u001b[0m\u001b[0m\n\u001b[0m\u001b[0;32m    177\u001b[0m \u001b[1;33m\u001b[0m\u001b[0m\n\u001b[0;32m    178\u001b[0m \u001b[1;33m\u001b[0m\u001b[0m\n",
      "\u001b[1;31mComputeGeodesicLineError\u001b[0m: cannot convert float NaN to integer"
     ]
    }
   ],
   "source": [
    "cp = gtg.gdlComp(coord_pairs)"
   ]
  },
  {
   "cell_type": "markdown",
   "metadata": {},
   "source": [
    "#### What went wrong??? \n",
    "\n",
    "This API uses (Longitude, Latitude) as a coordinate.  Longitude first!!"
   ]
  },
  {
   "cell_type": "markdown",
   "metadata": {},
   "source": [
    "#### Let's try to construct our coord_pairs again"
   ]
  },
  {
   "cell_type": "code",
   "execution_count": 51,
   "metadata": {},
   "outputs": [
    {
     "data": {
      "text/plain": [
       "(-74.006, 40.7128, -118.2437, 34.0522)"
      ]
     },
     "execution_count": 51,
     "metadata": {},
     "output_type": "execute_result"
    }
   ],
   "source": [
    "long_lat_pairs = (new_york[1], new_york[0], los_angeles[1], los_angeles[0])\n",
    "\n",
    "long_lat_pairs"
   ]
  },
  {
   "cell_type": "code",
   "execution_count": 52,
   "metadata": {
    "scrolled": true
   },
   "outputs": [
    {
     "name": "stderr",
     "output_type": "stream",
     "text": [
      "[2020-04-15 08:31:31 - INFO] - Geodesic line succesfully created!\n",
      "[2020-04-15 08:31:31 - INFO] - Total points = 197\n",
      "[2020-04-15 08:31:31 - INFO] - 3,944.4222 km\n"
     ]
    }
   ],
   "source": [
    "llp = gtg.gdlComp(long_lat_pairs)"
   ]
  },
  {
   "cell_type": "code",
   "execution_count": 5,
   "metadata": {},
   "outputs": [],
   "source": [
    "from shapely.geometry import LineString"
   ]
  },
  {
   "cell_type": "code",
   "execution_count": 61,
   "metadata": {},
   "outputs": [
    {
     "data": {
      "image/svg+xml": [
       "<svg xmlns=\"http://www.w3.org/2000/svg\" xmlns:xlink=\"http://www.w3.org/1999/xlink\" width=\"100.0\" height=\"100.0\" viewBox=\"-120.013208 32.282692 47.77671600000001 10.341177945646088\" preserveAspectRatio=\"xMinYMin meet\"><g transform=\"matrix(1,0,0,-1,0,74.90656194564608)\"><polyline fill=\"none\" stroke=\"#66cc99\" stroke-width=\"0.9555343200000002\" points=\"-74.006,40.7128 -74.24129767047795,40.724238389850754 -74.47667422996713,40.735196967331994 -74.71212635127227,40.745675392360816 -74.94765069778332,40.7556733394815 -75.18324392387996,40.76519049791208 -75.41890267533884,40.77422657158901 -75.65462358974344,40.78278127920965 -75.89040329689601,40.790854354272746 -76.12623841923218,40.7984455451168 -76.36212557223746,40.80555461495642 -76.59806136486584,40.812181341916386 -76.83404239996045,40.81832551906385 -77.07006527467583,40.823986954438176 -77.30612658090202,40.82916547107877 -77.54222290569014,40.833860907050685 -77.77835083167939,40.83807311546818 -78.01450693752548,40.84180196451595 -78.25068779833003,40.845047337468316 -78.48688998607125,40.84780913270618 -78.72311007003533,40.85008726373178 -78.95934461724886,40.85188165918126 -79.19559019291172,40.85319226283511 -79.4318433608306,40.854019033626244 -79.66810068385297,40.85436194564608 -79.90435872430128,40.85422098814827 -80.14061404440729,40.85359616555024 -80.37686320674653,40.85248749743258 -80.61310277467257,40.850895018536185 -80.84932931275108,40.8488187787572 -81.08553938719353,40.84625884313974 -81.32172956629041,40.84321529186647 -81.55789642084383,40.8396882202469 -81.7940365245994,40.8356777387035 -82.03014645467712,40.831183972755795 -82.26622279200143,40.826207063001945 -82.50226212173007,40.82074716509848 -82.73826103368155,40.81480444973765 -82.97421612276153,40.808379102622695 -83.21012398938738,40.801471324441 -83.44598123991136,40.794081330834956 -83.68178448704187,40.78620935237086 -83.91753035026294,40.77785563450559 -84.15321545625169,40.76902043755123 -84.38883643929364,40.75970403663747 -84.62438994169588,40.74990672167209 -84.85987261419774,40.73962879729925 -85.09528111637916,40.728870582855784 -85.33061211706634,40.71763241232536 -85.5658622947348,40.70591463429075 -85.80102833790957,40.69371761188397 -86.03610694556245,40.68104172273448 -86.2710948275063,40.667887358915365 -86.50598870478618,40.65425492688764 -86.74078531006715,40.6401448474425 -86.975481388019,40.625557555641755 -87.21007369569715,40.610493500756284 -87.44455900292026,40.59495314620264 -87.67893409264421,40.57893696947787 -87.9131957613322,40.562445462092285 -88.14734081932113,40.54547912950071 -88.38136609118392,40.52803849103167 -88.61526841608801,40.51012407981499 -88.84904464814959,40.49173644270759 -89.08269165678362,40.47287614021748 -89.31620632704981,40.45354374642624 -89.54958555999391,40.43373984890965 -89.78282627298483,40.413465048656775 -90.01592540004714,40.392719959987424 -90.24887989218888,40.371505210467944 -90.481686717725,40.34982144082561 -90.71434286259569,40.32766930486125 -90.94684533068019,40.305049469360604 -91.1791911441057,40.28196261400404 -91.41137734355117,40.25840943127478 -91.64340098854635,40.23439062636594 -91.8752591577656,40.20990691708591 -92.10694894931672,40.18495903376251 -92.33846748102452,40.1595477191458 -92.56981189070933,40.13367372830953 -92.80097933646005,40.107337828551415 -93.03196699690203,40.080540799291995 -93.26277207145964,40.05328343197249 -93.49339178061331,40.02556652995135 -93.72382336615128,39.997390908399616 -93.9540640914158,39.9687573941953 -94.18411124154385,39.93966682581656 -94.41396212370236,39.9101200532338 -94.64361406731793,39.88011793780089 -94.87306442430075,39.849661352145255 -95.10231056926318,39.818751180057035 -95.33134989973261,39.787388316377346 -95.56017983635854,39.75557366688561 -95.78879782311418,39.723308148186035 -96.01720132749227,39.69059268759328 -96.24538784069534,39.65742822301725 -96.47335487782,39.62381570284721 -96.70109997803593,39.58975608583511 -96.92862070475873,39.55525034097818 -97.15591464581742,39.52029944740094 -97.38297941361598,39.484904394236466 -97.60981264528937,39.44906618050709 -97.83641200285365,39.4127858150046 -98.06277517335063,39.376064316169696 -98.28889986898663,39.33890271197119 -98.51478382726566,39.30130203978443 -98.74042481111702,39.2632633462696 -98.96582060901697,39.2247876872493 -99.19096903510514,39.185876127585914 -99.4158679292951,39.146529741058536 -99.64051515737931,39.10674961023968 -99.86490861112871,39.066536826371504 -100.08904620838649,39.02589248924197 -100.31292589315669,38.98481770706058 -100.53654563568693,38.94331359633412 -100.75990343254604,38.90138128174195 -100.98299730669602,38.85902189601143 -101.20582530755873,38.816236579793014 -101.42838551107721,38.77302648153533 -101.65067601977168,38.72939275736028 -101.87269496279023,38.68533657093792 -102.09444049595442,38.64085909336149 -102.31591080179942,38.59596150302242 -102.53710408960931,38.55064498548537 -102.7580185954471,38.50491073336333 -102.97865258217963,38.45875994619286 -103.19900433949775,38.412193830309455 -103.41907218393115,38.36521359872303 -103.63885445885865,38.317820470993624 -103.85834953451334,38.27001567310728 -104.07755580798317,38.22180043735218 -104.2964717032066,38.173176002194985 -104.51509567096362,38.12414361215756 -104.73342618886215,38.07470451769383 -104.95146176131988,38.02485997506717 -105.16920091954148,37.97461124622797 -105.38664222149148,37.92395959869163 -105.60378425186276,37.872906305417004 -105.82062562204041,37.82145264468518 -106.03716497006174,37.76959989997874 -106.25340096057172,37.717349359861444 -106.46933228477451,37.66470231785845 -106.68495766038069,37.611660072336946 -106.9002758315506,37.55822392638741 -107.11528556883366,37.50439518770533 -107.32998566910378,37.45017516847345 -107.5443749554911,37.395565185244706 -107.75845227730963,37.34056655882565 -107.97221650998151,37.28518061416055 -108.18566655495752,37.22940868021606 -108.39880133963396,37.173252089866594 -108.6116198172661,37.11671217978033 -108.82412096687827,37.05979029030586 -109.0363037931704,37.00248776535963 -109.24816732642148,36.944805952313985 -109.45971062238958,36.88674620188597 -109.67093276220896,36.8283098680269 -109.88183285228386,36.76949830781264 -110.0924100241794,36.710312881334694 -110.30266343450951,36.65075495159198 -110.51259226482193,36.59082588438351 -110.72219572148052,36.53052704820185 -110.93147303554464,36.46985981412723 -111.14042346264603,36.4088255557228 -111.34904628286291,36.347425648930354 -111.55734080059186,36.28566147196722 -111.7653063444167,36.22353440522375 -111.97294226697554,36.16104583116192 -112.18024794482503,36.09819713421459 -112.38722277830266,36.034989700685735 -112.59386619138672,35.97142491865168 -112.80017763155412,35.90750417786296 -113.00615656963609,35.84322886964745 -113.2118024996721,35.77860038681408 -113.41711493876159,35.71362012355768 -113.62209342691384,35.648289475364685 -113.8267375268963,35.58260983891977 -114.03104682408085,35.51658261201348 -114.23502092628863,35.450209193450746 -114.43865946363297,35.38349098296037 -114.64196208836113,35.31642938110551 -114.84492847469416,35.24902578919506 -115.0475583186657,35.18128160919609 -115.24985133795904,35.113198243647176 -115.4518072717432,35.04477709557272 -115.65342588050754,34.976019568398286 -115.85470694589524,34.90692706586686 -116.05565027053568,34.83750099195619 -116.25625567787569,34.767742750797005 -116.45652301200977,34.69765374659223 -116.65645213750953,34.62723538353734 -116.85604293925186,34.55648906574149 -117.05529532224662,34.48541619714975 -117.25420921146329,34.41401818146641 -117.45278455165698,34.34229642207909 -117.65102130719373,34.27025232198398 -117.84891946187513,34.197887283712106 -118.04647901876241,34.1252027092564 -118.2437,34.0522\" opacity=\"0.8\" /></g></svg>"
      ],
      "text/plain": [
       "<shapely.geometry.linestring.LineString at 0x268cba7fa48>"
      ]
     },
     "execution_count": 61,
     "metadata": {},
     "output_type": "execute_result"
    }
   ],
   "source": [
    "z = LineString([x for x in llp])\n",
    "\n",
    "z"
   ]
  },
  {
   "cell_type": "markdown",
   "metadata": {},
   "source": [
    "#### Create our GIS output file"
   ]
  },
  {
   "cell_type": "code",
   "execution_count": 53,
   "metadata": {},
   "outputs": [
    {
     "name": "stderr",
     "output_type": "stream",
     "text": [
      "[2020-04-15 08:31:58 - INFO] - ESRI Shapefile succesfully created!\n"
     ]
    }
   ],
   "source": [
    "gtg.gdlToGisFile(llp, folderpath='data', layername='ny_to_la', fmt='ESRI Shapefile')"
   ]
  },
  {
   "cell_type": "markdown",
   "metadata": {},
   "source": [
    "#### Read our output GIS file"
   ]
  },
  {
   "cell_type": "code",
   "execution_count": 54,
   "metadata": {},
   "outputs": [],
   "source": [
    "ny_to_la_gdf = gpd.read_file('data/ny_to_la.shp')"
   ]
  },
  {
   "cell_type": "code",
   "execution_count": 57,
   "metadata": {},
   "outputs": [
    {
     "data": {
      "text/html": [
       "<div>\n",
       "<style scoped>\n",
       "    .dataframe tbody tr th:only-of-type {\n",
       "        vertical-align: middle;\n",
       "    }\n",
       "\n",
       "    .dataframe tbody tr th {\n",
       "        vertical-align: top;\n",
       "    }\n",
       "\n",
       "    .dataframe thead th {\n",
       "        text-align: right;\n",
       "    }\n",
       "</style>\n",
       "<table border=\"1\" class=\"dataframe\">\n",
       "  <thead>\n",
       "    <tr style=\"text-align: right;\">\n",
       "      <th></th>\n",
       "      <th>prop</th>\n",
       "      <th>geometry</th>\n",
       "    </tr>\n",
       "  </thead>\n",
       "  <tbody>\n",
       "    <tr>\n",
       "      <th>0</th>\n",
       "      <td>None</td>\n",
       "      <td>LINESTRING (-74.00600 40.71280, -74.24130 40.7...</td>\n",
       "    </tr>\n",
       "  </tbody>\n",
       "</table>\n",
       "</div>"
      ],
      "text/plain": [
       "   prop                                           geometry\n",
       "0  None  LINESTRING (-74.00600 40.71280, -74.24130 40.7..."
      ]
     },
     "execution_count": 57,
     "metadata": {},
     "output_type": "execute_result"
    }
   ],
   "source": [
    "ny_to_la_gdf.head()"
   ]
  },
  {
   "cell_type": "markdown",
   "metadata": {},
   "source": [
    "#### Plot our gdf"
   ]
  },
  {
   "cell_type": "code",
   "execution_count": 55,
   "metadata": {},
   "outputs": [
    {
     "data": {
      "image/png": "[encoded data removed]",
      "text/plain": [
       "<Figure size 432x288 with 1 Axes>"
      ]
     },
     "metadata": {
      "needs_background": "light"
     },
     "output_type": "display_data"
    }
   ],
   "source": [
    "ny_to_la_gdf.plot();"
   ]
  },
  {
   "cell_type": "markdown",
   "metadata": {},
   "source": [
    "# Networks"
   ]
  },
  {
   "cell_type": "markdown",
   "metadata": {},
   "source": [
    "## Networks with OSMnx\n",
    "\n",
    "### OSMnx: Python for Street Networks\n",
    "\n",
    "\n",
    "### Installing OSMnx\n",
    "\n",
    "\n",
    "```$ pip install osmnx==0.11```\n",
    "\n",
    "> If you are pip installing OSMnx, install geopandas and rtree first. It’s easiest to use conda-forge to get these dependencies installed. If you’re interested in OSMnx but don’t know where to begin, check out this guide to getting started with Python. Source: https://geoffboeing.com/2016/11/osmnx-python-street-networks/\n",
    "\n",
    "**Note** - If you experience a error, it may be that you didn't install `osmnx` as specified above. See this [GitHub Issue](https://github.com/gboeing/osmnx/issues/197)\n",
    "\n",
    "### About OSMnx\n",
    "\n",
    "> OSMnx: retrieve, model, analyze, and visualize street networks from OpenStreetMap. OSMnx is a Python package that lets you download spatial geometries and model, project, visualize, and analyze street networks and other spatial data from OpenStreetMap’s APIs. Users can download and model walkable, drivable, or bikable urban networks with a single line of Python code, and then easily analyze and visualize them. Source: https://osmnx.readthedocs.io/en/stable\n",
    "\n",
    "### Pandas extended to GeoPandas expended to OSMnx!\n",
    "\n",
    "#### Links\n",
    "\n",
    "* https://geoffboeing.com/2016/11/osmnx-python-street-networks/\n",
    "    \n",
    "* https://github.com/gboeing/osmnx\n",
    "        \n",
    "* https://osmnx.readthedocs.io/en/stable/\n"
   ]
  },
  {
   "cell_type": "code",
   "execution_count": 6,
   "metadata": {},
   "outputs": [
    {
     "data": {
      "text/plain": [
       "'0.11'"
      ]
     },
     "execution_count": 6,
     "metadata": {},
     "output_type": "execute_result"
    }
   ],
   "source": [
    "import networkx as nx\n",
    "import osmnx as ox\n",
    "import requests\n",
    "import matplotlib.cm as cm\n",
    "import matplotlib.colors as colors\n",
    "ox.config(use_cache=True, log_console=True)\n",
    "ox.__version__"
   ]
  },
  {
   "cell_type": "markdown",
   "metadata": {},
   "source": [
    "#### Let's get a Place Boundary from OSMnx"
   ]
  },
  {
   "cell_type": "code",
   "execution_count": 7,
   "metadata": {},
   "outputs": [],
   "source": [
    "# get the boundary polygon for manhattan, save it as a shapefile, project it to UTM, and plot it\n",
    "\n",
    "city = ox.gdf_from_place('Manhattan, New York, New York, USA')"
   ]
  },
  {
   "cell_type": "markdown",
   "metadata": {},
   "source": [
    "#### Plot `city`"
   ]
  },
  {
   "cell_type": "code",
   "execution_count": 8,
   "metadata": {
    "scrolled": true
   },
   "outputs": [
    {
     "data": {
      "image/png": "[encoded data removed]",
      "text/plain": [
       "<Figure size 432x288 with 1 Axes>"
      ]
     },
     "metadata": {
      "needs_background": "light"
     },
     "output_type": "display_data"
    }
   ],
   "source": [
    "city.plot();"
   ]
  },
  {
   "cell_type": "code",
   "execution_count": 9,
   "metadata": {},
   "outputs": [
    {
     "data": {
      "text/plain": [
       "geopandas.geodataframe.GeoDataFrame"
      ]
     },
     "execution_count": 9,
     "metadata": {},
     "output_type": "execute_result"
    }
   ],
   "source": [
    "type(city)"
   ]
  },
  {
   "cell_type": "code",
   "execution_count": null,
   "metadata": {},
   "outputs": [],
   "source": [
    "# Exporting the plot to a specific directory as a shapefile\n",
    "# city.to_file('data/manhattan.shp')"
   ]
  },
  {
   "cell_type": "markdown",
   "metadata": {},
   "source": [
    "#### OSMnx, has it's own Function to save as a shapefile, in a folder called `data`"
   ]
  },
  {
   "cell_type": "code",
   "execution_count": null,
   "metadata": {},
   "outputs": [],
   "source": [
    "# This exports in a newly created folder\n",
    "# ox.save_gdf_shapefile(city)"
   ]
  },
  {
   "cell_type": "markdown",
   "metadata": {},
   "source": [
    "#### Let's get some Streets from Ojai, California, via the `graph_from_place()` function to get the Streets Network. "
   ]
  },
  {
   "cell_type": "code",
   "execution_count": 13,
   "metadata": {
    "scrolled": true
   },
   "outputs": [
    {
     "name": "stdout",
     "output_type": "stream",
     "text": [
      "Package            Version            \n",
      "------------------ -------------------\n",
      "affine             2.3.0              \n",
      "art                4.5                \n",
      "attrs              19.3.0             \n",
      "backcall           0.1.0              \n",
      "bleach             3.1.0              \n",
      "branca             0.3.1              \n",
      "certifi            2020.4.5.1         \n",
      "chardet            3.0.4              \n",
      "click              7.1.1              \n",
      "click-plugins      1.1.1              \n",
      "cligj              0.5.0              \n",
      "colorama           0.4.3              \n",
      "coverage           5.0                \n",
      "cycler             0.10.0             \n",
      "decorator          4.4.2              \n",
      "defusedxml         0.6.0              \n",
      "Deprecated         1.2.8              \n",
      "descartes          1.1.0              \n",
      "entrypoints        0.3                \n",
      "Fiona              1.8.4              \n",
      "folium             0.10.1             \n",
      "GDAL               2.3.3              \n",
      "GeodesicLinesToGIS 0.5.0              \n",
      "geographiclib      1.50               \n",
      "geopandas          0.6.1              \n",
      "geopy              1.21.0             \n",
      "idna               2.9                \n",
      "importlib-metadata 1.5.0              \n",
      "ipykernel          5.1.4              \n",
      "ipyleaflet         0.12.3             \n",
      "ipython            7.13.0             \n",
      "ipython-genutils   0.2.0              \n",
      "ipywidgets         7.5.1              \n",
      "jedi               0.16.0             \n",
      "jellyfish          0.5.6              \n",
      "Jinja2             2.11.1             \n",
      "joblib             0.14.1             \n",
      "jsonschema         3.2.0              \n",
      "jupyter-client     6.1.0              \n",
      "jupyter-core       4.6.1              \n",
      "kiwisolver         1.1.0              \n",
      "mapclassify        2.2.0              \n",
      "MarkupSafe         1.1.1              \n",
      "matplotlib         3.1.3              \n",
      "missingno          0.4.2              \n",
      "mistune            0.8.4              \n",
      "mkl-fft            1.0.15             \n",
      "mkl-random         1.1.0              \n",
      "mkl-service        2.3.0              \n",
      "munch              2.5.0              \n",
      "nbconvert          5.6.1              \n",
      "nbformat           5.0.4              \n",
      "networkx           2.4                \n",
      "notebook           6.0.3              \n",
      "numpy              1.18.1             \n",
      "osmnx              0.11               \n",
      "pandas             1.0.3              \n",
      "pandocfilters      1.4.2              \n",
      "parso              0.6.2              \n",
      "pickleshare        0.7.5              \n",
      "pip                20.0.2             \n",
      "prometheus-client  0.7.1              \n",
      "prompt-toolkit     3.0.4              \n",
      "Pygments           2.6.1              \n",
      "pyparsing          2.4.6              \n",
      "pyproj             1.9.6              \n",
      "pyrsistent         0.15.7             \n",
      "python-dateutil    2.8.1              \n",
      "pytz               2019.3             \n",
      "pywin32            227                \n",
      "pywinpty           0.5.7              \n",
      "pyzmq              18.1.1             \n",
      "rasterio           1.0.21             \n",
      "requests           2.23.0             \n",
      "Rtree              0.9.3              \n",
      "scikit-learn       0.22.2.post1       \n",
      "scipy              1.4.1              \n",
      "seaborn            0.10.0             \n",
      "Send2Trash         1.5.0              \n",
      "setuptools         46.1.1.post20200323\n",
      "Shapely            1.6.4.post1        \n",
      "six                1.14.0             \n",
      "snuggs             1.4.7              \n",
      "terminado          0.8.3              \n",
      "testpath           0.4.4              \n",
      "tornado            6.0.4              \n",
      "traitlets          4.3.3              \n",
      "traittypes         0.2.1              \n",
      "urllib3            1.25.8             \n",
      "us                 1.0.0              \n",
      "wcwidth            0.1.8              \n",
      "webcolors          1.3                \n",
      "webencodings       0.5.1              \n",
      "wheel              0.34.2             \n",
      "widgetsnbextension 3.5.1              \n",
      "wincertstore       0.2                \n",
      "wrapt              1.12.1             \n",
      "xarray             0.15.1             \n",
      "zipp               2.2.0              \n"
     ]
    }
   ],
   "source": [
    "!pip list"
   ]
  },
  {
   "cell_type": "code",
   "execution_count": 11,
   "metadata": {
    "scrolled": true
   },
   "outputs": [
    {
     "ename": "TypeError",
     "evalue": "unhashable type: 'dict'",
     "output_type": "error",
     "traceback": [
      "\u001b[1;31m---------------------------------------------------------------------------\u001b[0m",
      "\u001b[1;31mTypeError\u001b[0m                                 Traceback (most recent call last)",
      "\u001b[1;32m<ipython-input-11-2290735cde3d>\u001b[0m in \u001b[0;36m<module>\u001b[1;34m\u001b[0m\n\u001b[0;32m      1\u001b[0m \u001b[1;31m# this may take a while, think of it like downloading a file\u001b[0m\u001b[1;33m\u001b[0m\u001b[1;33m\u001b[0m\u001b[1;33m\u001b[0m\u001b[0m\n\u001b[0;32m      2\u001b[0m \u001b[1;33m\u001b[0m\u001b[0m\n\u001b[1;32m----> 3\u001b[1;33m \u001b[0mojai_streets\u001b[0m \u001b[1;33m=\u001b[0m \u001b[0mox\u001b[0m\u001b[1;33m.\u001b[0m\u001b[0mgraph_from_place\u001b[0m\u001b[1;33m(\u001b[0m\u001b[1;34m'Ojai, California, USA'\u001b[0m\u001b[1;33m)\u001b[0m\u001b[1;33m\u001b[0m\u001b[1;33m\u001b[0m\u001b[0m\n\u001b[0m",
      "\u001b[1;32m~\\anaconda3\\envs\\GIS\\lib\\site-packages\\osmnx\\core.py\u001b[0m in \u001b[0;36mgraph_from_place\u001b[1;34m(query, network_type, simplify, retain_all, truncate_by_edge, name, which_result, buffer_dist, timeout, memory, max_query_area_size, clean_periphery, infrastructure, custom_filter)\u001b[0m\n\u001b[0;32m   1443\u001b[0m                            \u001b[0mmax_query_area_size\u001b[0m\u001b[1;33m=\u001b[0m\u001b[0mmax_query_area_size\u001b[0m\u001b[1;33m,\u001b[0m\u001b[1;33m\u001b[0m\u001b[1;33m\u001b[0m\u001b[0m\n\u001b[0;32m   1444\u001b[0m                            \u001b[0mclean_periphery\u001b[0m\u001b[1;33m=\u001b[0m\u001b[0mclean_periphery\u001b[0m\u001b[1;33m,\u001b[0m \u001b[0minfrastructure\u001b[0m\u001b[1;33m=\u001b[0m\u001b[0minfrastructure\u001b[0m\u001b[1;33m,\u001b[0m\u001b[1;33m\u001b[0m\u001b[1;33m\u001b[0m\u001b[0m\n\u001b[1;32m-> 1445\u001b[1;33m                            custom_filter=custom_filter)\n\u001b[0m\u001b[0;32m   1446\u001b[0m \u001b[1;33m\u001b[0m\u001b[0m\n\u001b[0;32m   1447\u001b[0m     \u001b[0mlog\u001b[0m\u001b[1;33m(\u001b[0m\u001b[1;34m'graph_from_place() returning graph with {:,} nodes and {:,} edges'\u001b[0m\u001b[1;33m.\u001b[0m\u001b[0mformat\u001b[0m\u001b[1;33m(\u001b[0m\u001b[0mlen\u001b[0m\u001b[1;33m(\u001b[0m\u001b[0mlist\u001b[0m\u001b[1;33m(\u001b[0m\u001b[0mG\u001b[0m\u001b[1;33m.\u001b[0m\u001b[0mnodes\u001b[0m\u001b[1;33m(\u001b[0m\u001b[1;33m)\u001b[0m\u001b[1;33m)\u001b[0m\u001b[1;33m)\u001b[0m\u001b[1;33m,\u001b[0m \u001b[0mlen\u001b[0m\u001b[1;33m(\u001b[0m\u001b[0mlist\u001b[0m\u001b[1;33m(\u001b[0m\u001b[0mG\u001b[0m\u001b[1;33m.\u001b[0m\u001b[0medges\u001b[0m\u001b[1;33m(\u001b[0m\u001b[1;33m)\u001b[0m\u001b[1;33m)\u001b[0m\u001b[1;33m)\u001b[0m\u001b[1;33m)\u001b[0m\u001b[1;33m)\u001b[0m\u001b[1;33m\u001b[0m\u001b[1;33m\u001b[0m\u001b[0m\n",
      "\u001b[1;32m~\\anaconda3\\envs\\GIS\\lib\\site-packages\\osmnx\\core.py\u001b[0m in \u001b[0;36mgraph_from_polygon\u001b[1;34m(polygon, network_type, simplify, retain_all, truncate_by_edge, name, timeout, memory, max_query_area_size, clean_periphery, infrastructure, custom_filter)\u001b[0m\n\u001b[0;32m   1319\u001b[0m         G_buffered = create_graph(response_jsons, name=name, retain_all=True,\n\u001b[0;32m   1320\u001b[0m                                   bidirectional=network_type in settings.bidirectional_network_types)\n\u001b[1;32m-> 1321\u001b[1;33m         \u001b[0mG_buffered\u001b[0m \u001b[1;33m=\u001b[0m \u001b[0mtruncate_graph_polygon\u001b[0m\u001b[1;33m(\u001b[0m\u001b[0mG_buffered\u001b[0m\u001b[1;33m,\u001b[0m \u001b[0mpolygon_buffered\u001b[0m\u001b[1;33m,\u001b[0m \u001b[0mretain_all\u001b[0m\u001b[1;33m=\u001b[0m\u001b[1;32mTrue\u001b[0m\u001b[1;33m,\u001b[0m \u001b[0mtruncate_by_edge\u001b[0m\u001b[1;33m=\u001b[0m\u001b[0mtruncate_by_edge\u001b[0m\u001b[1;33m)\u001b[0m\u001b[1;33m\u001b[0m\u001b[1;33m\u001b[0m\u001b[0m\n\u001b[0m\u001b[0;32m   1322\u001b[0m \u001b[1;33m\u001b[0m\u001b[0m\n\u001b[0;32m   1323\u001b[0m         \u001b[1;31m# simplify the graph topology\u001b[0m\u001b[1;33m\u001b[0m\u001b[1;33m\u001b[0m\u001b[1;33m\u001b[0m\u001b[0m\n",
      "\u001b[1;32m~\\anaconda3\\envs\\GIS\\lib\\site-packages\\osmnx\\core.py\u001b[0m in \u001b[0;36mtruncate_graph_polygon\u001b[1;34m(G, polygon, retain_all, truncate_by_edge, quadrat_width, min_num, buffer_amount)\u001b[0m\n\u001b[0;32m    731\u001b[0m \u001b[1;33m\u001b[0m\u001b[0m\n\u001b[0;32m    732\u001b[0m     \u001b[1;31m# find all the nodes in the graph that lie outside the polygon\u001b[0m\u001b[1;33m\u001b[0m\u001b[1;33m\u001b[0m\u001b[1;33m\u001b[0m\u001b[0m\n\u001b[1;32m--> 733\u001b[1;33m     \u001b[0mpoints_within_geometry\u001b[0m \u001b[1;33m=\u001b[0m \u001b[0mintersect_index_quadrats\u001b[0m\u001b[1;33m(\u001b[0m\u001b[0mgdf_nodes\u001b[0m\u001b[1;33m,\u001b[0m \u001b[0mpolygon\u001b[0m\u001b[1;33m,\u001b[0m \u001b[0mquadrat_width\u001b[0m\u001b[1;33m=\u001b[0m\u001b[0mquadrat_width\u001b[0m\u001b[1;33m,\u001b[0m \u001b[0mmin_num\u001b[0m\u001b[1;33m=\u001b[0m\u001b[0mmin_num\u001b[0m\u001b[1;33m,\u001b[0m \u001b[0mbuffer_amount\u001b[0m\u001b[1;33m=\u001b[0m\u001b[0mbuffer_amount\u001b[0m\u001b[1;33m)\u001b[0m\u001b[1;33m\u001b[0m\u001b[1;33m\u001b[0m\u001b[0m\n\u001b[0m\u001b[0;32m    734\u001b[0m     \u001b[0mnodes_outside_polygon\u001b[0m \u001b[1;33m=\u001b[0m \u001b[0mgdf_nodes\u001b[0m\u001b[1;33m[\u001b[0m\u001b[1;33m~\u001b[0m\u001b[0mgdf_nodes\u001b[0m\u001b[1;33m.\u001b[0m\u001b[0mindex\u001b[0m\u001b[1;33m.\u001b[0m\u001b[0misin\u001b[0m\u001b[1;33m(\u001b[0m\u001b[0mpoints_within_geometry\u001b[0m\u001b[1;33m.\u001b[0m\u001b[0mindex\u001b[0m\u001b[1;33m)\u001b[0m\u001b[1;33m]\u001b[0m\u001b[1;33m\u001b[0m\u001b[1;33m\u001b[0m\u001b[0m\n\u001b[0;32m    735\u001b[0m \u001b[1;33m\u001b[0m\u001b[0m\n",
      "\u001b[1;32m~\\anaconda3\\envs\\GIS\\lib\\site-packages\\osmnx\\core.py\u001b[0m in \u001b[0;36mintersect_index_quadrats\u001b[1;34m(gdf, geometry, quadrat_width, min_num, buffer_amount)\u001b[0m\n\u001b[0;32m    678\u001b[0m         \u001b[1;31m# drop duplicate points, if buffered poly caused an overlap on point(s)\u001b[0m\u001b[1;33m\u001b[0m\u001b[1;33m\u001b[0m\u001b[1;33m\u001b[0m\u001b[0m\n\u001b[0;32m    679\u001b[0m         \u001b[1;31m# that lay directly on a quadrat line\u001b[0m\u001b[1;33m\u001b[0m\u001b[1;33m\u001b[0m\u001b[1;33m\u001b[0m\u001b[0m\n\u001b[1;32m--> 680\u001b[1;33m         \u001b[0mpoints_within_geometry\u001b[0m \u001b[1;33m=\u001b[0m \u001b[0mpoints_within_geometry\u001b[0m\u001b[1;33m.\u001b[0m\u001b[0mdrop_duplicates\u001b[0m\u001b[1;33m(\u001b[0m\u001b[0msubset\u001b[0m\u001b[1;33m=\u001b[0m\u001b[1;34m'node'\u001b[0m\u001b[1;33m)\u001b[0m\u001b[1;33m\u001b[0m\u001b[1;33m\u001b[0m\u001b[0m\n\u001b[0m\u001b[0;32m    681\u001b[0m     \u001b[1;32melse\u001b[0m\u001b[1;33m:\u001b[0m\u001b[1;33m\u001b[0m\u001b[1;33m\u001b[0m\u001b[0m\n\u001b[0;32m    682\u001b[0m         \u001b[1;31m# after simplifying the graph, and given the requested network type,\u001b[0m\u001b[1;33m\u001b[0m\u001b[1;33m\u001b[0m\u001b[1;33m\u001b[0m\u001b[0m\n",
      "\u001b[1;32m~\\anaconda3\\envs\\GIS\\lib\\site-packages\\pandas\\core\\frame.py\u001b[0m in \u001b[0;36mdrop_duplicates\u001b[1;34m(self, subset, keep, inplace, ignore_index)\u001b[0m\n\u001b[0;32m   4809\u001b[0m \u001b[1;33m\u001b[0m\u001b[0m\n\u001b[0;32m   4810\u001b[0m         \u001b[0minplace\u001b[0m \u001b[1;33m=\u001b[0m \u001b[0mvalidate_bool_kwarg\u001b[0m\u001b[1;33m(\u001b[0m\u001b[0minplace\u001b[0m\u001b[1;33m,\u001b[0m \u001b[1;34m\"inplace\"\u001b[0m\u001b[1;33m)\u001b[0m\u001b[1;33m\u001b[0m\u001b[1;33m\u001b[0m\u001b[0m\n\u001b[1;32m-> 4811\u001b[1;33m         \u001b[0mduplicated\u001b[0m \u001b[1;33m=\u001b[0m \u001b[0mself\u001b[0m\u001b[1;33m.\u001b[0m\u001b[0mduplicated\u001b[0m\u001b[1;33m(\u001b[0m\u001b[0msubset\u001b[0m\u001b[1;33m,\u001b[0m \u001b[0mkeep\u001b[0m\u001b[1;33m=\u001b[0m\u001b[0mkeep\u001b[0m\u001b[1;33m)\u001b[0m\u001b[1;33m\u001b[0m\u001b[1;33m\u001b[0m\u001b[0m\n\u001b[0m\u001b[0;32m   4812\u001b[0m \u001b[1;33m\u001b[0m\u001b[0m\n\u001b[0;32m   4813\u001b[0m         \u001b[1;32mif\u001b[0m \u001b[0minplace\u001b[0m\u001b[1;33m:\u001b[0m\u001b[1;33m\u001b[0m\u001b[1;33m\u001b[0m\u001b[0m\n",
      "\u001b[1;32m~\\anaconda3\\envs\\GIS\\lib\\site-packages\\pandas\\core\\frame.py\u001b[0m in \u001b[0;36mduplicated\u001b[1;34m(self, subset, keep)\u001b[0m\n\u001b[0;32m   4886\u001b[0m \u001b[1;33m\u001b[0m\u001b[0m\n\u001b[0;32m   4887\u001b[0m         \u001b[0mvals\u001b[0m \u001b[1;33m=\u001b[0m \u001b[1;33m(\u001b[0m\u001b[0mcol\u001b[0m\u001b[1;33m.\u001b[0m\u001b[0mvalues\u001b[0m \u001b[1;32mfor\u001b[0m \u001b[0mname\u001b[0m\u001b[1;33m,\u001b[0m \u001b[0mcol\u001b[0m \u001b[1;32min\u001b[0m \u001b[0mself\u001b[0m\u001b[1;33m.\u001b[0m\u001b[0mitems\u001b[0m\u001b[1;33m(\u001b[0m\u001b[1;33m)\u001b[0m \u001b[1;32mif\u001b[0m \u001b[0mname\u001b[0m \u001b[1;32min\u001b[0m \u001b[0msubset\u001b[0m\u001b[1;33m)\u001b[0m\u001b[1;33m\u001b[0m\u001b[1;33m\u001b[0m\u001b[0m\n\u001b[1;32m-> 4888\u001b[1;33m         \u001b[0mlabels\u001b[0m\u001b[1;33m,\u001b[0m \u001b[0mshape\u001b[0m \u001b[1;33m=\u001b[0m \u001b[0mmap\u001b[0m\u001b[1;33m(\u001b[0m\u001b[0mlist\u001b[0m\u001b[1;33m,\u001b[0m \u001b[0mzip\u001b[0m\u001b[1;33m(\u001b[0m\u001b[1;33m*\u001b[0m\u001b[0mmap\u001b[0m\u001b[1;33m(\u001b[0m\u001b[0mf\u001b[0m\u001b[1;33m,\u001b[0m \u001b[0mvals\u001b[0m\u001b[1;33m)\u001b[0m\u001b[1;33m)\u001b[0m\u001b[1;33m)\u001b[0m\u001b[1;33m\u001b[0m\u001b[1;33m\u001b[0m\u001b[0m\n\u001b[0m\u001b[0;32m   4889\u001b[0m \u001b[1;33m\u001b[0m\u001b[0m\n\u001b[0;32m   4890\u001b[0m         \u001b[0mids\u001b[0m \u001b[1;33m=\u001b[0m \u001b[0mget_group_index\u001b[0m\u001b[1;33m(\u001b[0m\u001b[0mlabels\u001b[0m\u001b[1;33m,\u001b[0m \u001b[0mshape\u001b[0m\u001b[1;33m,\u001b[0m \u001b[0msort\u001b[0m\u001b[1;33m=\u001b[0m\u001b[1;32mFalse\u001b[0m\u001b[1;33m,\u001b[0m \u001b[0mxnull\u001b[0m\u001b[1;33m=\u001b[0m\u001b[1;32mFalse\u001b[0m\u001b[1;33m)\u001b[0m\u001b[1;33m\u001b[0m\u001b[1;33m\u001b[0m\u001b[0m\n",
      "\u001b[1;32m~\\anaconda3\\envs\\GIS\\lib\\site-packages\\pandas\\core\\frame.py\u001b[0m in \u001b[0;36mf\u001b[1;34m(vals)\u001b[0m\n\u001b[0;32m   4861\u001b[0m         \u001b[1;32mdef\u001b[0m \u001b[0mf\u001b[0m\u001b[1;33m(\u001b[0m\u001b[0mvals\u001b[0m\u001b[1;33m)\u001b[0m\u001b[1;33m:\u001b[0m\u001b[1;33m\u001b[0m\u001b[1;33m\u001b[0m\u001b[0m\n\u001b[0;32m   4862\u001b[0m             labels, shape = algorithms.factorize(\n\u001b[1;32m-> 4863\u001b[1;33m                 \u001b[0mvals\u001b[0m\u001b[1;33m,\u001b[0m \u001b[0msize_hint\u001b[0m\u001b[1;33m=\u001b[0m\u001b[0mmin\u001b[0m\u001b[1;33m(\u001b[0m\u001b[0mlen\u001b[0m\u001b[1;33m(\u001b[0m\u001b[0mself\u001b[0m\u001b[1;33m)\u001b[0m\u001b[1;33m,\u001b[0m \u001b[0m_SIZE_HINT_LIMIT\u001b[0m\u001b[1;33m)\u001b[0m\u001b[1;33m\u001b[0m\u001b[1;33m\u001b[0m\u001b[0m\n\u001b[0m\u001b[0;32m   4864\u001b[0m             )\n\u001b[0;32m   4865\u001b[0m             \u001b[1;32mreturn\u001b[0m \u001b[0mlabels\u001b[0m\u001b[1;33m.\u001b[0m\u001b[0mastype\u001b[0m\u001b[1;33m(\u001b[0m\u001b[1;34m\"i8\"\u001b[0m\u001b[1;33m,\u001b[0m \u001b[0mcopy\u001b[0m\u001b[1;33m=\u001b[0m\u001b[1;32mFalse\u001b[0m\u001b[1;33m)\u001b[0m\u001b[1;33m,\u001b[0m \u001b[0mlen\u001b[0m\u001b[1;33m(\u001b[0m\u001b[0mshape\u001b[0m\u001b[1;33m)\u001b[0m\u001b[1;33m\u001b[0m\u001b[1;33m\u001b[0m\u001b[0m\n",
      "\u001b[1;32m~\\anaconda3\\envs\\GIS\\lib\\site-packages\\pandas\\core\\algorithms.py\u001b[0m in \u001b[0;36mfactorize\u001b[1;34m(values, sort, na_sentinel, size_hint)\u001b[0m\n\u001b[0;32m    634\u001b[0m \u001b[1;33m\u001b[0m\u001b[0m\n\u001b[0;32m    635\u001b[0m         codes, uniques = _factorize_array(\n\u001b[1;32m--> 636\u001b[1;33m             \u001b[0mvalues\u001b[0m\u001b[1;33m,\u001b[0m \u001b[0mna_sentinel\u001b[0m\u001b[1;33m=\u001b[0m\u001b[0mna_sentinel\u001b[0m\u001b[1;33m,\u001b[0m \u001b[0msize_hint\u001b[0m\u001b[1;33m=\u001b[0m\u001b[0msize_hint\u001b[0m\u001b[1;33m,\u001b[0m \u001b[0mna_value\u001b[0m\u001b[1;33m=\u001b[0m\u001b[0mna_value\u001b[0m\u001b[1;33m\u001b[0m\u001b[1;33m\u001b[0m\u001b[0m\n\u001b[0m\u001b[0;32m    637\u001b[0m         )\n\u001b[0;32m    638\u001b[0m \u001b[1;33m\u001b[0m\u001b[0m\n",
      "\u001b[1;32m~\\anaconda3\\envs\\GIS\\lib\\site-packages\\pandas\\core\\algorithms.py\u001b[0m in \u001b[0;36m_factorize_array\u001b[1;34m(values, na_sentinel, size_hint, na_value)\u001b[0m\n\u001b[0;32m    482\u001b[0m \u001b[1;33m\u001b[0m\u001b[0m\n\u001b[0;32m    483\u001b[0m     \u001b[0mtable\u001b[0m \u001b[1;33m=\u001b[0m \u001b[0mhash_klass\u001b[0m\u001b[1;33m(\u001b[0m\u001b[0msize_hint\u001b[0m \u001b[1;32mor\u001b[0m \u001b[0mlen\u001b[0m\u001b[1;33m(\u001b[0m\u001b[0mvalues\u001b[0m\u001b[1;33m)\u001b[0m\u001b[1;33m)\u001b[0m\u001b[1;33m\u001b[0m\u001b[1;33m\u001b[0m\u001b[0m\n\u001b[1;32m--> 484\u001b[1;33m     \u001b[0muniques\u001b[0m\u001b[1;33m,\u001b[0m \u001b[0mcodes\u001b[0m \u001b[1;33m=\u001b[0m \u001b[0mtable\u001b[0m\u001b[1;33m.\u001b[0m\u001b[0mfactorize\u001b[0m\u001b[1;33m(\u001b[0m\u001b[0mvalues\u001b[0m\u001b[1;33m,\u001b[0m \u001b[0mna_sentinel\u001b[0m\u001b[1;33m=\u001b[0m\u001b[0mna_sentinel\u001b[0m\u001b[1;33m,\u001b[0m \u001b[0mna_value\u001b[0m\u001b[1;33m=\u001b[0m\u001b[0mna_value\u001b[0m\u001b[1;33m)\u001b[0m\u001b[1;33m\u001b[0m\u001b[1;33m\u001b[0m\u001b[0m\n\u001b[0m\u001b[0;32m    485\u001b[0m \u001b[1;33m\u001b[0m\u001b[0m\n\u001b[0;32m    486\u001b[0m     \u001b[0mcodes\u001b[0m \u001b[1;33m=\u001b[0m \u001b[0mensure_platform_int\u001b[0m\u001b[1;33m(\u001b[0m\u001b[0mcodes\u001b[0m\u001b[1;33m)\u001b[0m\u001b[1;33m\u001b[0m\u001b[1;33m\u001b[0m\u001b[0m\n",
      "\u001b[1;32mpandas\\_libs\\hashtable_class_helper.pxi\u001b[0m in \u001b[0;36mpandas._libs.hashtable.PyObjectHashTable.factorize\u001b[1;34m()\u001b[0m\n",
      "\u001b[1;32mpandas\\_libs\\hashtable_class_helper.pxi\u001b[0m in \u001b[0;36mpandas._libs.hashtable.PyObjectHashTable._unique\u001b[1;34m()\u001b[0m\n",
      "\u001b[1;31mTypeError\u001b[0m: unhashable type: 'dict'"
     ]
    }
   ],
   "source": [
    "# this may take a while, think of it like downloading a file\n",
    "\n",
    "ojai_streets = ox.graph_from_place('Ojai, California, USA')"
   ]
  },
  {
   "cell_type": "markdown",
   "metadata": {},
   "source": [
    "#### Let's plot a graph of the Ojai Streets Network"
   ]
  },
  {
   "cell_type": "code",
   "execution_count": 12,
   "metadata": {},
   "outputs": [
    {
     "ename": "NameError",
     "evalue": "name 'ojai_streets' is not defined",
     "output_type": "error",
     "traceback": [
      "\u001b[1;31m---------------------------------------------------------------------------\u001b[0m",
      "\u001b[1;31mNameError\u001b[0m                                 Traceback (most recent call last)",
      "\u001b[1;32m<ipython-input-12-1bf71230a0fb>\u001b[0m in \u001b[0;36m<module>\u001b[1;34m\u001b[0m\n\u001b[1;32m----> 1\u001b[1;33m \u001b[0mox\u001b[0m\u001b[1;33m.\u001b[0m\u001b[0mplot_graph\u001b[0m\u001b[1;33m(\u001b[0m\u001b[0mojai_streets\u001b[0m\u001b[1;33m)\u001b[0m\u001b[1;33m;\u001b[0m\u001b[1;33m\u001b[0m\u001b[1;33m\u001b[0m\u001b[0m\n\u001b[0m",
      "\u001b[1;31mNameError\u001b[0m: name 'ojai_streets' is not defined"
     ]
    }
   ],
   "source": [
    "ox.plot_graph(ojai_streets);"
   ]
  },
  {
   "cell_type": "markdown",
   "metadata": {},
   "source": [
    "#### This OSMnx object from `ox.graph_from_place()` is not a GeoDataFrame object"
   ]
  },
  {
   "cell_type": "code",
   "execution_count": null,
   "metadata": {},
   "outputs": [],
   "source": []
  },
  {
   "cell_type": "markdown",
   "metadata": {},
   "source": [
    "#### Let's get the Nodes and Edges of the Graph"
   ]
  },
  {
   "cell_type": "code",
   "execution_count": null,
   "metadata": {},
   "outputs": [],
   "source": []
  },
  {
   "cell_type": "markdown",
   "metadata": {},
   "source": [
    "#### Let's look at `graph_gdfs`"
   ]
  },
  {
   "cell_type": "code",
   "execution_count": null,
   "metadata": {},
   "outputs": [],
   "source": []
  },
  {
   "cell_type": "code",
   "execution_count": null,
   "metadata": {},
   "outputs": [],
   "source": []
  },
  {
   "cell_type": "markdown",
   "metadata": {},
   "source": [
    "#### We'll also grab the boundary for Ojai, California"
   ]
  },
  {
   "cell_type": "code",
   "execution_count": null,
   "metadata": {},
   "outputs": [],
   "source": []
  },
  {
   "cell_type": "code",
   "execution_count": null,
   "metadata": {},
   "outputs": [],
   "source": []
  },
  {
   "cell_type": "markdown",
   "metadata": {},
   "source": [
    "#### Plot them together"
   ]
  },
  {
   "cell_type": "code",
   "execution_count": 14,
   "metadata": {},
   "outputs": [],
   "source": [
    "fig, ax = plt.subplots(figsize=(12, 12))\n",
    "\n",
    "ojai_bounds.plot(ax=ax)\n",
    "streets.plot(ax=ax, color='red')\n",
    "intersections.plot(ax=ax, color='pink')\n",
    "\n",
    "plt.title('Ojai, California Streets')\n",
    "\n",
    "plt.show();"
   ]
  }
 ],
 "metadata": {
  "kernelspec": {
   "display_name": "Python 3",
   "language": "python",
   "name": "python3"
  },
  "language_info": {
   "codemirror_mode": {
    "name": "ipython",
    "version": 3
   },
   "file_extension": ".py",
   "mimetype": "text/x-python",
   "name": "python",
   "nbconvert_exporter": "python",
   "pygments_lexer": "ipython3",
   "version": "3.7.7"
  },
  "toc": {
   "base_numbering": 1,
   "nav_menu": {},
   "number_sections": false,
   "sideBar": true,
   "skip_h1_title": false,
   "title_cell": "Table of Contents",
   "title_sidebar": "Contents",
   "toc_cell": true,
   "toc_position": {
    "height": "856.364px",
    "left": "34px",
    "top": "110.284px",
    "width": "177.833px"
   },
   "toc_section_display": true,
   "toc_window_display": false
  }
 },
 "nbformat": 4,
 "nbformat_minor": 2
}
